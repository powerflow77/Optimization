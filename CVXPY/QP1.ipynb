{
 "cells": [
  {
   "cell_type": "code",
   "execution_count": 81,
   "metadata": {},
   "outputs": [],
   "source": [
    "import numpy as np\n",
    "import pandas as pd\n",
    "import cvxpy as cvx\n",
    "import matplotlib.pyplot as plt"
   ]
  },
  {
   "attachments": {},
   "cell_type": "markdown",
   "metadata": {},
   "source": [
    "\\begin{equation}\n",
    "\\begin{aligned}\n",
    "\n",
    "\\min_{} \\quad & 5x_{0}^2 + 2x_{0}{1} + 3x_{1}^2 + 7x_{0} + x_{1} + 10\\\\\n",
    "\\textrm{s.t.} \\quad & x_{0} + x_{1} = 1 \\\\\n",
    "                    & x_{0}, x_{1} \\ge 0\\\\\n",
    "\n",
    "\\end{aligned}\n",
    "\\end{equation}"
   ]
  },
  {
   "attachments": {},
   "cell_type": "markdown",
   "metadata": {},
   "source": [
    "A 사용해서 아래와 같이 쓸 수 있지만\n",
    "\\begin{equation} \n",
    "x^TAx\n",
    "\\end{equation}\n",
    "cvx.quad_form(x, P)에 들어가는 P는 반드시 symmetric/hermitian 이어야 한다. <br/>\n",
    "따라서 일부러 아래처럼 H(hessian) 구해서 넣은 거임.<br/>\n",
    "cvx.quad_form에 걍 A 집어 넣으면 계산이 안 됨."
   ]
  },
  {
   "cell_type": "code",
   "execution_count": 82,
   "metadata": {},
   "outputs": [],
   "source": [
    "A = np.matrix([[5,2], \n",
    "                [0,3]])\n",
    "\n",
    "H = 1/2 * (A + A.T)\n",
    "\n",
    "b = np.array([7, 1])\n",
    "c= 10"
   ]
  },
  {
   "cell_type": "code",
   "execution_count": 83,
   "metadata": {},
   "outputs": [
    {
     "name": "stdout",
     "output_type": "stream",
     "text": [
      "A:\n",
      "[[5 2]\n",
      " [0 3]]\n",
      "H:\n",
      "[[5. 1.]\n",
      " [1. 3.]]\n",
      "b:\n",
      "[7 1]\n",
      "c:\n",
      "10\n"
     ]
    }
   ],
   "source": [
    "print(f'A:')\n",
    "print(A)\n",
    "print(f'H:')\n",
    "print(H)\n",
    "print(f'b:')\n",
    "print(b)\n",
    "print(f'c:')\n",
    "print(c)"
   ]
  },
  {
   "cell_type": "code",
   "execution_count": 84,
   "metadata": {},
   "outputs": [],
   "source": [
    "x = cvx.Variable(2, nonneg=True)\n",
    "q = cvx.quad_form(x, H) + b.T@x + c"
   ]
  },
  {
   "attachments": {},
   "cell_type": "markdown",
   "metadata": {},
   "source": [
    "## The objective function"
   ]
  },
  {
   "cell_type": "code",
   "execution_count": 85,
   "metadata": {},
   "outputs": [],
   "source": [
    "obj = cvx.Minimize(q)"
   ]
  },
  {
   "attachments": {},
   "cell_type": "markdown",
   "metadata": {},
   "source": [
    "## The constraints"
   ]
  },
  {
   "cell_type": "code",
   "execution_count": 86,
   "metadata": {},
   "outputs": [],
   "source": [
    "con = [x[0] + x[1] == 1]"
   ]
  },
  {
   "cell_type": "code",
   "execution_count": 87,
   "metadata": {},
   "outputs": [],
   "source": [
    "model = cvx.Problem(obj, con)"
   ]
  },
  {
   "cell_type": "code",
   "execution_count": 88,
   "metadata": {},
   "outputs": [
    {
     "data": {
      "text/plain": [
       "14.0"
      ]
     },
     "execution_count": 88,
     "metadata": {},
     "output_type": "execute_result"
    }
   ],
   "source": [
    "model.solve()"
   ]
  },
  {
   "attachments": {},
   "cell_type": "markdown",
   "metadata": {},
   "source": [
    "## The Results"
   ]
  },
  {
   "cell_type": "code",
   "execution_count": 89,
   "metadata": {},
   "outputs": [
    {
     "name": "stdout",
     "output_type": "stream",
     "text": [
      "The Cost is 14.0\n"
     ]
    }
   ],
   "source": [
    "print(f'The Cost is {model.value}')"
   ]
  },
  {
   "cell_type": "code",
   "execution_count": 90,
   "metadata": {},
   "outputs": [
    {
     "name": "stdout",
     "output_type": "stream",
     "text": [
      "The x values are: \n",
      "[0. 1.]\n"
     ]
    }
   ],
   "source": [
    "print(f'The x values are: ')\n",
    "print(f'{np.round(x.value)}')"
   ]
  },
  {
   "cell_type": "code",
   "execution_count": null,
   "metadata": {},
   "outputs": [],
   "source": []
  }
 ],
 "metadata": {
  "kernelspec": {
   "display_name": "base",
   "language": "python",
   "name": "python3"
  },
  "language_info": {
   "codemirror_mode": {
    "name": "ipython",
    "version": 3
   },
   "file_extension": ".py",
   "mimetype": "text/x-python",
   "name": "python",
   "nbconvert_exporter": "python",
   "pygments_lexer": "ipython3",
   "version": "3.9.7 (default, Sep 16 2021, 16:59:28) [MSC v.1916 64 bit (AMD64)]"
  },
  "orig_nbformat": 4,
  "vscode": {
   "interpreter": {
    "hash": "e4cce46d6be9934fbd27f9ca0432556941ea5bdf741d4f4d64c6cd7f8dfa8fba"
   }
  }
 },
 "nbformat": 4,
 "nbformat_minor": 2
}
