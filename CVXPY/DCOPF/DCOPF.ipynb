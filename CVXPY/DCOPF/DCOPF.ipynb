{
 "cells": [
  {
   "cell_type": "code",
   "execution_count": 100,
   "metadata": {},
   "outputs": [],
   "source": [
    "# This code references the work of Jip Kim.\n",
    "import numpy as np\n",
    "import cvxpy as cp\n",
    "\n",
    "from math import radians\n",
    "from readnetwork import readnetwork\n",
    "from ybus import ybus"
   ]
  },
  {
   "cell_type": "code",
   "execution_count": 101,
   "metadata": {},
   "outputs": [],
   "source": [
    "testsystem = 'case_ieee30'"
   ]
  },
  {
   "cell_type": "code",
   "execution_count": 102,
   "metadata": {},
   "outputs": [
    {
     "name": "stdout",
     "output_type": "stream",
     "text": [
      "Bus(bindex=1.0, btype=3.0, Pd=0.0, Qd=0.0, Gs=0.0, Bs=0.0, area=1.0, Vm=1.06, Va=0.0, baseKV=132.0, bzone=1.0, Vmax=1.06, Vmin=0.94, inline=[], outline=[0, 1])\n",
      "Bus(bindex=2.0, btype=2.0, Pd=0.217, Qd=0.127, Gs=0.0, Bs=0.0, area=1.0, Vm=1.043, Va=-0.09564404300928926, baseKV=132.0, bzone=1.0, Vmax=1.06, Vmin=0.94, inline=[0], outline=[2, 4, 5])\n",
      "Bus(bindex=3.0, btype=1.0, Pd=0.024, Qd=0.012, Gs=0.0, Bs=0.0, area=1.0, Vm=1.021, Va=-0.13892820845874862, baseKV=132.0, bzone=1.0, Vmax=1.06, Vmin=0.94, inline=[1], outline=[3])\n",
      "Bus(bindex=4.0, btype=1.0, Pd=0.076, Qd=0.016, Gs=0.0, Bs=0.0, area=1.0, Vm=1.012, Va=-0.1679006740418545, baseKV=132.0, bzone=1.0, Vmax=1.06, Vmin=0.94, inline=[2, 3], outline=[6, 14])\n",
      "Line(lindex=1, fbus=0, tbus=1, r=0.0192, x=0.0575, b=0.0528, u=0.0, shft=0.0, tap=0.0, angmin=-6.283185307179586, angmax=6.283185307179586)\n",
      "Generator(gindex=1, gtype='NotDefined', location=0, Pg=2.602, Qg=-0.161, Qmax=0.1, Qmin=0.0, Vg=1.06, mBase=100.0, status=1.0, Pmax=3.602, Pmin=0.0, cost=[0.0384319754, 20.0, 0.0], SUcost=0.0, SDcost=0.0, RU=0, RD=0, UPtime=0, DNtime=0)\n"
     ]
    }
   ],
   "source": [
    "buses, lines, generators, datamat = readnetwork(testsystem)\n",
    "# inline: 다른 버스에서 이 버스로 들어오는(matpower data에서 from이랑 to) line의 인덱스가 표기되어 있음.\n",
    "# outline: 이 버스에서 다른 버스로 향하는 line의 인덱스가 표기되어 있음.\n",
    "print(buses[0])\n",
    "print(buses[1])\n",
    "print(buses[2])\n",
    "print(buses[3])\n",
    "print(lines[0])\n",
    "print(generators[0])"
   ]
  },
  {
   "cell_type": "code",
   "execution_count": 103,
   "metadata": {},
   "outputs": [],
   "source": [
    "nline = len(lines)\n",
    "nbus = len(buses)\n",
    "ngen = len(generators)\n",
    "lineset = np.arange(0, nline)\n",
    "busset = np.arange(0, nbus)\n",
    "genset = np.arange(0, ngen)\n",
    "baseMVA = datamat['baseMVA'][0,0][0,0]"
   ]
  },
  {
   "cell_type": "code",
   "execution_count": 104,
   "metadata": {},
   "outputs": [],
   "source": [
    "Ybus, yff, yft, ytf, ytt = ybus( buses, lines )\n",
    "\n",
    "yff_r = np.real(yff)\n",
    "yff_i = np.imag(yff)\n",
    "ytt_r = np.real(ytt)\n",
    "ytt_i = np.imag(ytt)\n",
    "yft_r = np.real(yft)\n",
    "yft_i = np.imag(yft)\n",
    "ytf_r = np.real(ytf)\n",
    "ytf_i = np.imag(ytf)"
   ]
  },
  {
   "cell_type": "code",
   "execution_count": 105,
   "metadata": {},
   "outputs": [],
   "source": [
    "B_g = []\n",
    "for g in genset:\n",
    "    B_g.append( generators[g].location )\n",
    "\n",
    "B_gn = []\n",
    "for i in busset:\n",
    "    B_gn.append( [] )\n",
    "\n",
    "for g in genset:\n",
    "    B_gn[ generators[g].location ].append( int(g) )\n",
    "\n",
    "# B_gn\n",
    "# # [[0], [1], [], [], [2], [], [], [3], [], [], [4], [], [5], [], [], [], [], [], [], [], [], [], [], [], [], [], [], [], [], []]"
   ]
  },
  {
   "cell_type": "code",
   "execution_count": null,
   "metadata": {},
   "outputs": [],
   "source": []
  },
  {
   "cell_type": "code",
   "execution_count": 106,
   "metadata": {},
   "outputs": [],
   "source": [
    "theta = cp.Variable( len(busset) )\n",
    "pg = cp.Variable( len(genset) )\n",
    "p_ft = cp.Variable( len(lineset) )\n",
    "p_tf = cp.Variable( len(lineset) )\n",
    "\n",
    "obj = []\n",
    "con = []\n",
    "for b in busset:\n",
    "    con += [ -np.pi <= theta[b], theta[b] <= +np.pi ]\n",
    "    if buses[b].btype == 3: # if it is reference, ...\n",
    "        con += [ theta[b] == 0 ]\n",
    "\n",
    "for g in genset:\n",
    "    con += [ generators[g].Pmin <= pg[g], pg[g] <= generators[g].Pmax ]\n",
    "\n",
    "for l in lineset:\n",
    "    con += [ p_ft[l] == float(yft_i[l]) * (theta[lines[l].fbus] - theta[lines[l].tbus]) ]\n",
    "    con += [ p_tf[l] == float(ytf_i[l]) * (theta[lines[l].tbus] - theta[lines[l].fbus]) ]\n",
    "\n",
    "# power balance equation\n",
    "for b in busset:\n",
    "    con += [ sum(p_ft[l] for l in buses[b].outline) + sum(p_tf[l] for l in buses[b].inline)\n",
    "            - sum(pg[g] for g in B_gn[b]) + buses[b].Pd + buses[b].Gs*1.0**2\n",
    "            == 0]\n",
    "\n",
    "# u는 line의 용량\n",
    "for l in lineset:\n",
    "    if lines[l].u != 0:\n",
    "        con += [ -lines[l].u <= p_ft[l], p_ft[l] <= +lines[l].u ]\n",
    "        con += [ -lines[l].u <= p_tf[l], p_tf[l] <= +lines[l].u ]\n",
    "    \n",
    "    con += [ lines[l].angmin <= theta[lines[l].fbus] - theta[lines[l].tbus] ]\n",
    "    con += [ theta[lines[l].fbus] - theta[lines[l].tbus] <= lines[l].angmax ]\n",
    "\n",
    "\n",
    "obj = cp.Minimize( sum( (generators[g].cost[0] * (pg[g]*baseMVA)**2 \n",
    "                        + generators[g].cost[1] * (pg[g]*baseMVA)\n",
    "                        + generators[g].cost[2] )                   for g in genset) )\n",
    "                        \n",
    "prob = cp.Problem(objective=obj, constraints=con)"
   ]
  },
  {
   "cell_type": "code",
   "execution_count": 107,
   "metadata": {},
   "outputs": [
    {
     "data": {
      "text/plain": [
       "8343.402053512347"
      ]
     },
     "execution_count": 107,
     "metadata": {},
     "output_type": "execute_result"
    }
   ],
   "source": [
    "prob.solve(solver=cp.GUROBI)"
   ]
  },
  {
   "cell_type": "code",
   "execution_count": null,
   "metadata": {},
   "outputs": [],
   "source": []
  },
  {
   "cell_type": "code",
   "execution_count": null,
   "metadata": {},
   "outputs": [],
   "source": []
  },
  {
   "cell_type": "code",
   "execution_count": null,
   "metadata": {},
   "outputs": [],
   "source": []
  },
  {
   "cell_type": "code",
   "execution_count": null,
   "metadata": {},
   "outputs": [],
   "source": []
  },
  {
   "cell_type": "code",
   "execution_count": null,
   "metadata": {},
   "outputs": [],
   "source": []
  }
 ],
 "metadata": {
  "kernelspec": {
   "display_name": "base",
   "language": "python",
   "name": "python3"
  },
  "language_info": {
   "codemirror_mode": {
    "name": "ipython",
    "version": 3
   },
   "file_extension": ".py",
   "mimetype": "text/x-python",
   "name": "python",
   "nbconvert_exporter": "python",
   "pygments_lexer": "ipython3",
   "version": "3.9.7"
  }
 },
 "nbformat": 4,
 "nbformat_minor": 2
}
