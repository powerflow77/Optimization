{
 "cells": [
  {
   "attachments": {},
   "cell_type": "markdown",
   "metadata": {},
   "source": [
    "## 노란책 Example 4.5"
   ]
  },
  {
   "cell_type": "code",
   "execution_count": 41,
   "metadata": {},
   "outputs": [],
   "source": [
    "import numpy as np\n",
    "import pandas as pd\n",
    "import cvxpy as cvx\n",
    "import matplotlib.pyplot as plt"
   ]
  },
  {
   "attachments": {},
   "cell_type": "markdown",
   "metadata": {},
   "source": [
    "\\begin{equation}\n",
    "\\begin{aligned}\n",
    "\\min_{x} \\quad & \\sum_{i}^{m} \\sum_{j}^{n} c_{ij}x_{ij}\\\\\n",
    "\\textrm{s.t.} \\quad & \\sum_{j}^n x_{ij} = s_{i}\\\\\n",
    "                    & \\sum_{i}^m x_{ij} = d_{j}   \\\\\n",
    "                    & x_{ij} \\ge 0\n",
    "\\end{aligned}\n",
    "\\end{equation}"
   ]
  },
  {
   "cell_type": "code",
   "execution_count": 42,
   "metadata": {},
   "outputs": [],
   "source": [
    "m = 4\n",
    "n = 3\n",
    "\n",
    "c = np.array([[3,3,5,8],[7,2,5,8],[4,6,2,3]])\n",
    "s = np.array([30,20,20,30])\n",
    "d = np.array([35,42,23])"
   ]
  },
  {
   "cell_type": "code",
   "execution_count": 43,
   "metadata": {},
   "outputs": [],
   "source": [
    "x = cvx.Variable((m,n), nonneg=True)"
   ]
  },
  {
   "cell_type": "code",
   "execution_count": 44,
   "metadata": {},
   "outputs": [],
   "source": [
    "# @ should be used for matrix-matrix and matrix-vector multiplication.\n",
    "obj = cvx.Minimize(cvx.trace(c@x))"
   ]
  },
  {
   "cell_type": "code",
   "execution_count": 45,
   "metadata": {},
   "outputs": [],
   "source": [
    "con = [x@np.ones(n) == s,\n",
    "        x.T@np.ones(m) == d\n",
    "]"
   ]
  },
  {
   "cell_type": "code",
   "execution_count": 46,
   "metadata": {},
   "outputs": [
    {
     "data": {
      "text/plain": [
       "355.00000065651864"
      ]
     },
     "execution_count": 46,
     "metadata": {},
     "output_type": "execute_result"
    }
   ],
   "source": [
    "model = cvx.Problem(obj, con)\n",
    "model.solve()"
   ]
  },
  {
   "cell_type": "code",
   "execution_count": 47,
   "metadata": {},
   "outputs": [
    {
     "name": "stdout",
     "output_type": "stream",
     "text": [
      "The cost is 355.0\n"
     ]
    }
   ],
   "source": [
    "print(f'The cost is {np.round(obj.value)}')"
   ]
  },
  {
   "cell_type": "code",
   "execution_count": 48,
   "metadata": {},
   "outputs": [
    {
     "name": "stdout",
     "output_type": "stream",
     "text": [
      "The x values are: \n",
      "[[30.     0.     0.   ]\n",
      " [ 0.    20.     0.   ]\n",
      " [ 2.762 17.238  0.   ]\n",
      " [ 2.238  4.762 23.   ]]\n"
     ]
    }
   ],
   "source": [
    "print(f'The x values are: ')\n",
    "print(np.round(x.value, 3))"
   ]
  },
  {
   "cell_type": "code",
   "execution_count": null,
   "metadata": {},
   "outputs": [],
   "source": []
  }
 ],
 "metadata": {
  "kernelspec": {
   "display_name": "base",
   "language": "python",
   "name": "python3"
  },
  "language_info": {
   "codemirror_mode": {
    "name": "ipython",
    "version": 3
   },
   "file_extension": ".py",
   "mimetype": "text/x-python",
   "name": "python",
   "nbconvert_exporter": "python",
   "pygments_lexer": "ipython3",
   "version": "3.9.7 (default, Sep 16 2021, 16:59:28) [MSC v.1916 64 bit (AMD64)]"
  },
  "orig_nbformat": 4,
  "vscode": {
   "interpreter": {
    "hash": "e4cce46d6be9934fbd27f9ca0432556941ea5bdf741d4f4d64c6cd7f8dfa8fba"
   }
  }
 },
 "nbformat": 4,
 "nbformat_minor": 2
}
