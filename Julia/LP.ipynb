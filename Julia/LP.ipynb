{
 "cells": [
  {
   "cell_type": "code",
   "execution_count": 130,
   "metadata": {},
   "outputs": [],
   "source": [
    "using JuMP\n",
    "using HiGHS"
   ]
  },
  {
   "cell_type": "markdown",
   "metadata": {},
   "source": [
    "## __Linear Programming__"
   ]
  },
  {
   "cell_type": "code",
   "execution_count": 131,
   "metadata": {},
   "outputs": [
    {
     "name": "stdout",
     "output_type": "stream",
     "text": [
      "Running HiGHS 1.6.0: Copyright (c) 2023 HiGHS under MIT licence terms\n",
      "Presolving model\n",
      "1 rows, 2 cols, 2 nonzeros\n",
      "0 rows, 0 cols, 0 nonzeros\n",
      "Presolve : Reductions: rows 0(-1); columns 0(-2); elements 0(-2) - Reduced to empty\n",
      "Solving the original LP from the solution after postsolve\n",
      "Model   status      : Optimal\n",
      "Objective value     :  1.4500000000e+01\n",
      "HiGHS run time      :          0.00\n",
      "\n",
      "x = 2.0\n",
      "y = 1.5\n",
      "objective = 14.5"
     ]
    },
    {
     "name": "stdout",
     "output_type": "stream",
     "text": [
      "\n"
     ]
    }
   ],
   "source": [
    "model = Model(HiGHS.Optimizer)\n",
    "\n",
    "\n",
    "@variable(model, 0 <= x <= 2)\n",
    "@variable(model, 0 <= y <= 30)\n",
    "\n",
    "\n",
    "@constraint(model, 2x + 4y <= 10)\n",
    "\n",
    "\n",
    "@objective(model, Max, 5x + 3y)\n",
    "\n",
    "\n",
    "optimize!(model)\n",
    "\n",
    "#..................................................\n",
    "println()\n",
    "println(\"x = $(value.(x))\")\n",
    "println(\"y = $(value.(y))\")\n",
    "println(\"objective = $(objective_value.(model))\")"
   ]
  },
  {
   "cell_type": "markdown",
   "metadata": {},
   "source": [
    "## __Linear Programming__"
   ]
  },
  {
   "cell_type": "code",
   "execution_count": 132,
   "metadata": {},
   "outputs": [
    {
     "name": "stdout",
     "output_type": "stream",
     "text": [
      "Running HiGHS 1.6.0: Copyright (c) 2023 HiGHS under MIT licence terms\n",
      "Presolving model\n",
      "3 rows, 4 cols, 10 nonzeros\n",
      "3 rows, 4 cols, 10 nonzeros\n",
      "Presolve : Reductions: rows 3(-0); columns 4(-0); elements 10(-0) - Not reduced\n",
      "Problem not reduced by presolve: solving the LP\n",
      "Using EKK dual simplex solver - serial\n",
      "  Iteration        Objective     Infeasibilities num(sum)\n",
      "          0     0.0000000000e+00 Pr: 3(13.5) 0s\n",
      "          4     4.9230769231e+00 Pr: 0(0) 0s\n",
      "Model   status      : Optimal\n",
      "Simplex   iterations: 4\n",
      "Objective value     :  4.9230769231e+00\n",
      "HiGHS run time      :          0.00\n",
      "\n",
      "Objective:  4.923076923076922\n",
      "x = [0.42307692307692396, 0.34615384615384515, 0.6923076923076923, 0.0]"
     ]
    },
    {
     "name": "stdout",
     "output_type": "stream",
     "text": [
      "\n"
     ]
    }
   ],
   "source": [
    "model = Model(HiGHS.Optimizer)\n",
    "\n",
    "\n",
    "@variable(model, x[1:4] >= 0) # 0부터 3으로 해도 됨.\n",
    "\n",
    "\n",
    "A = [1 1 9 5; 3 5 0 8; 2 0 6 13]\n",
    "b = [7, 3, 5]\n",
    "c = [1, 3, 5, 2]\n",
    "\n",
    "\n",
    "@constraint(model, A*x .== b) # .은 좌변연산으로 생성된 벡터와 우변이 요소별로 같아야 함을 말함.\n",
    "\n",
    "\n",
    "@objective(model, Min, c'*x)\n",
    "\n",
    "\n",
    "optimize!(model)\n",
    "\n",
    "\n",
    "#...............................................................\n",
    "println()\n",
    "println(\"Objective:  $(objective_value.(model))\")\n",
    "println(\"x = $(value.(x))\")"
   ]
  },
  {
   "cell_type": "code",
   "execution_count": 133,
   "metadata": {},
   "outputs": [],
   "source": []
  },
  {
   "cell_type": "code",
   "execution_count": 134,
   "metadata": {},
   "outputs": [],
   "source": []
  },
  {
   "cell_type": "code",
   "execution_count": 135,
   "metadata": {},
   "outputs": [],
   "source": []
  }
 ],
 "metadata": {
  "kernelspec": {
   "display_name": "Julia 1.8.2",
   "language": "julia",
   "name": "julia-1.8"
  },
  "language_info": {
   "file_extension": ".jl",
   "mimetype": "application/julia",
   "name": "julia",
   "version": "1.8.2"
  }
 },
 "nbformat": 4,
 "nbformat_minor": 2
}
