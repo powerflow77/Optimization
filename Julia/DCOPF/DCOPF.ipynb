{
 "cells": [
  {
   "cell_type": "markdown",
   "metadata": {},
   "source": [
    "## DCOPF\n",
    "- https://github.com/Power-Systems-Optimization-Course/power-systems-optimization/blob/master/Notebooks/06-Optimal-Power-Flow.ipynb"
   ]
  },
  {
   "cell_type": "code",
   "execution_count": 25,
   "metadata": {},
   "outputs": [],
   "source": [
    "using JuMP, HiGHS, CSV, DataFrames, PrettyTables, VegaLite"
   ]
  },
  {
   "cell_type": "code",
   "execution_count": 26,
   "metadata": {},
   "outputs": [],
   "source": [
    "gen = CSV.read(\"gen.csv\", DataFrame);\n",
    "gencost = CSV.read(\"gencost.csv\", DataFrame);\n",
    "branch = CSV.read(\"branch.csv\", DataFrame);\n",
    "bus = CSV.read(\"bus.csv\", DataFrame);"
   ]
  },
  {
   "cell_type": "code",
   "execution_count": 27,
   "metadata": {},
   "outputs": [
    {
     "data": {
      "text/html": [
       "<div><div style = \"float: left;\"><span>3×13 DataFrame</span></div><div style = \"clear: both;\"></div></div><div class = \"data-frame\" style = \"overflow-x: scroll;\"><table class = \"data-frame\" style = \"margin-bottom: 6px;\"><thead><tr class = \"header\"><th class = \"rowNumber\" style = \"font-weight: bold; text-align: right;\">Row</th><th style = \"text-align: left;\">bus_i</th><th style = \"text-align: left;\">type</th><th style = \"text-align: left;\">pd</th><th style = \"text-align: left;\">qd</th><th style = \"text-align: left;\">gs</th><th style = \"text-align: left;\">bs</th><th style = \"text-align: left;\">area</th><th style = \"text-align: left;\">vm</th><th style = \"text-align: left;\">va</th><th style = \"text-align: left;\">basekv</th><th style = \"text-align: left;\">zone</th><th style = \"text-align: left;\">vmax</th><th style = \"text-align: left;\">vmin</th></tr><tr class = \"subheader headerLastRow\"><th class = \"rowNumber\" style = \"font-weight: bold; text-align: right;\"></th><th title = \"Int64\" style = \"text-align: left;\">Int64</th><th title = \"Int64\" style = \"text-align: left;\">Int64</th><th title = \"Int64\" style = \"text-align: left;\">Int64</th><th title = \"Float64\" style = \"text-align: left;\">Float64</th><th title = \"Int64\" style = \"text-align: left;\">Int64</th><th title = \"Int64\" style = \"text-align: left;\">Int64</th><th title = \"Int64\" style = \"text-align: left;\">Int64</th><th title = \"Int64\" style = \"text-align: left;\">Int64</th><th title = \"Int64\" style = \"text-align: left;\">Int64</th><th title = \"Int64\" style = \"text-align: left;\">Int64</th><th title = \"Int64\" style = \"text-align: left;\">Int64</th><th title = \"Float64\" style = \"text-align: left;\">Float64</th><th title = \"Float64\" style = \"text-align: left;\">Float64</th></tr></thead><tbody><tr><td class = \"rowNumber\" style = \"font-weight: bold; text-align: right;\">1</td><td style = \"text-align: right;\">1</td><td style = \"text-align: right;\">2</td><td style = \"text-align: right;\">0</td><td style = \"text-align: right;\">0.0</td><td style = \"text-align: right;\">0</td><td style = \"text-align: right;\">0</td><td style = \"text-align: right;\">1</td><td style = \"text-align: right;\">1</td><td style = \"text-align: right;\">0</td><td style = \"text-align: right;\">230</td><td style = \"text-align: right;\">1</td><td style = \"text-align: right;\">1.1</td><td style = \"text-align: right;\">0.9</td></tr><tr><td class = \"rowNumber\" style = \"font-weight: bold; text-align: right;\">2</td><td style = \"text-align: right;\">2</td><td style = \"text-align: right;\">2</td><td style = \"text-align: right;\">0</td><td style = \"text-align: right;\">0.0</td><td style = \"text-align: right;\">0</td><td style = \"text-align: right;\">0</td><td style = \"text-align: right;\">1</td><td style = \"text-align: right;\">1</td><td style = \"text-align: right;\">0</td><td style = \"text-align: right;\">230</td><td style = \"text-align: right;\">1</td><td style = \"text-align: right;\">1.1</td><td style = \"text-align: right;\">0.9</td></tr><tr><td class = \"rowNumber\" style = \"font-weight: bold; text-align: right;\">3</td><td style = \"text-align: right;\">3</td><td style = \"text-align: right;\">1</td><td style = \"text-align: right;\">600</td><td style = \"text-align: right;\">98.61</td><td style = \"text-align: right;\">0</td><td style = \"text-align: right;\">0</td><td style = \"text-align: right;\">1</td><td style = \"text-align: right;\">1</td><td style = \"text-align: right;\">0</td><td style = \"text-align: right;\">230</td><td style = \"text-align: right;\">1</td><td style = \"text-align: right;\">1.1</td><td style = \"text-align: right;\">0.9</td></tr></tbody></table></div>"
      ],
      "text/latex": [
       "\\begin{tabular}{r|cccccccccccc}\n",
       "\t& bus\\_i & type & pd & qd & gs & bs & area & vm & va & basekv & zone & \\\\\n",
       "\t\\hline\n",
       "\t& Int64 & Int64 & Int64 & Float64 & Int64 & Int64 & Int64 & Int64 & Int64 & Int64 & Int64 & \\\\\n",
       "\t\\hline\n",
       "\t1 & 1 & 2 & 0 & 0.0 & 0 & 0 & 1 & 1 & 0 & 230 & 1 & $\\dots$ \\\\\n",
       "\t2 & 2 & 2 & 0 & 0.0 & 0 & 0 & 1 & 1 & 0 & 230 & 1 & $\\dots$ \\\\\n",
       "\t3 & 3 & 1 & 600 & 98.61 & 0 & 0 & 1 & 1 & 0 & 230 & 1 & $\\dots$ \\\\\n",
       "\\end{tabular}\n"
      ],
      "text/plain": [
       "\u001b[1m3×13 DataFrame\u001b[0m\n",
       "\u001b[1m Row \u001b[0m│\u001b[1m bus_i \u001b[0m\u001b[1m type  \u001b[0m\u001b[1m pd    \u001b[0m\u001b[1m qd      \u001b[0m\u001b[1m gs    \u001b[0m\u001b[1m bs    \u001b[0m\u001b[1m area  \u001b[0m\u001b[1m vm    \u001b[0m\u001b[1m va    \u001b[0m\u001b[1m basekv\u001b[0m ⋯\n",
       "     │\u001b[90m Int64 \u001b[0m\u001b[90m Int64 \u001b[0m\u001b[90m Int64 \u001b[0m\u001b[90m Float64 \u001b[0m\u001b[90m Int64 \u001b[0m\u001b[90m Int64 \u001b[0m\u001b[90m Int64 \u001b[0m\u001b[90m Int64 \u001b[0m\u001b[90m Int64 \u001b[0m\u001b[90m Int64 \u001b[0m ⋯\n",
       "─────┼──────────────────────────────────────────────────────────────────────────\n",
       "   1 │     1      2      0     0.0       0      0      1      1      0     230 ⋯\n",
       "   2 │     2      2      0     0.0       0      0      1      1      0     230\n",
       "   3 │     3      1    600    98.61      0      0      1      1      0     230\n",
       "\u001b[36m                                                               3 columns omitted\u001b[0m"
      ]
     },
     "metadata": {},
     "output_type": "display_data"
    },
    {
     "data": {
      "text/html": [
       "<div><div style = \"float: left;\"><span>2×22 DataFrame</span></div><div style = \"clear: both;\"></div></div><div class = \"data-frame\" style = \"overflow-x: scroll;\"><table class = \"data-frame\" style = \"margin-bottom: 6px;\"><thead><tr class = \"header\"><th class = \"rowNumber\" style = \"font-weight: bold; text-align: right;\">Row</th><th style = \"text-align: left;\">bus</th><th style = \"text-align: left;\">pg</th><th style = \"text-align: left;\">qg</th><th style = \"text-align: left;\">qmax</th><th style = \"text-align: left;\">qmin</th><th style = \"text-align: left;\">vg</th><th style = \"text-align: left;\">mbase</th><th style = \"text-align: left;\">status</th><th style = \"text-align: left;\">pmax</th><th style = \"text-align: left;\">pmin</th><th style = \"text-align: left;\">pc1</th><th style = \"text-align: left;\">pc2</th><th style = \"text-align: left;\">qc1min</th><th style = \"text-align: left;\">qc1max</th><th style = \"text-align: left;\">qc2min</th><th style = \"text-align: left;\">qc2max</th><th style = \"text-align: left;\">ramp_agc</th><th style = \"text-align: left;\">ramp_10</th><th style = \"text-align: left;\">ramp_30</th><th style = \"text-align: left;\">ramp_q</th><th style = \"text-align: left;\">apf</th><th style = \"text-align: left;\">id</th></tr><tr class = \"subheader headerLastRow\"><th class = \"rowNumber\" style = \"font-weight: bold; text-align: right;\"></th><th title = \"Int64\" style = \"text-align: left;\">Int64</th><th title = \"Int64\" style = \"text-align: left;\">Int64</th><th title = \"Int64\" style = \"text-align: left;\">Int64</th><th title = \"Float64\" style = \"text-align: left;\">Float64</th><th title = \"Float64\" style = \"text-align: left;\">Float64</th><th title = \"Int64\" style = \"text-align: left;\">Int64</th><th title = \"Int64\" style = \"text-align: left;\">Int64</th><th title = \"Int64\" style = \"text-align: left;\">Int64</th><th title = \"Int64\" style = \"text-align: left;\">Int64</th><th title = \"Int64\" style = \"text-align: left;\">Int64</th><th title = \"Int64\" style = \"text-align: left;\">Int64</th><th title = \"Int64\" style = \"text-align: left;\">Int64</th><th title = \"Int64\" style = \"text-align: left;\">Int64</th><th title = \"Int64\" style = \"text-align: left;\">Int64</th><th title = \"Int64\" style = \"text-align: left;\">Int64</th><th title = \"Int64\" style = \"text-align: left;\">Int64</th><th title = \"Int64\" style = \"text-align: left;\">Int64</th><th title = \"Int64\" style = \"text-align: left;\">Int64</th><th title = \"Int64\" style = \"text-align: left;\">Int64</th><th title = \"Int64\" style = \"text-align: left;\">Int64</th><th title = \"Int64\" style = \"text-align: left;\">Int64</th><th title = \"Int64\" style = \"text-align: left;\">Int64</th></tr></thead><tbody><tr><td class = \"rowNumber\" style = \"font-weight: bold; text-align: right;\">1</td><td style = \"text-align: right;\">1</td><td style = \"text-align: right;\">40</td><td style = \"text-align: right;\">0</td><td style = \"text-align: right;\">30.0</td><td style = \"text-align: right;\">-30.0</td><td style = \"text-align: right;\">1</td><td style = \"text-align: right;\">100</td><td style = \"text-align: right;\">1</td><td style = \"text-align: right;\">1000</td><td style = \"text-align: right;\">0</td><td style = \"text-align: right;\">0</td><td style = \"text-align: right;\">0</td><td style = \"text-align: right;\">0</td><td style = \"text-align: right;\">0</td><td style = \"text-align: right;\">0</td><td style = \"text-align: right;\">0</td><td style = \"text-align: right;\">0</td><td style = \"text-align: right;\">0</td><td style = \"text-align: right;\">0</td><td style = \"text-align: right;\">0</td><td style = \"text-align: right;\">0</td><td style = \"text-align: right;\">1</td></tr><tr><td class = \"rowNumber\" style = \"font-weight: bold; text-align: right;\">2</td><td style = \"text-align: right;\">2</td><td style = \"text-align: right;\">170</td><td style = \"text-align: right;\">0</td><td style = \"text-align: right;\">127.5</td><td style = \"text-align: right;\">-127.5</td><td style = \"text-align: right;\">1</td><td style = \"text-align: right;\">100</td><td style = \"text-align: right;\">1</td><td style = \"text-align: right;\">1000</td><td style = \"text-align: right;\">0</td><td style = \"text-align: right;\">0</td><td style = \"text-align: right;\">0</td><td style = \"text-align: right;\">0</td><td style = \"text-align: right;\">0</td><td style = \"text-align: right;\">0</td><td style = \"text-align: right;\">0</td><td style = \"text-align: right;\">0</td><td style = \"text-align: right;\">0</td><td style = \"text-align: right;\">0</td><td style = \"text-align: right;\">0</td><td style = \"text-align: right;\">0</td><td style = \"text-align: right;\">2</td></tr></tbody></table></div>"
      ],
      "text/latex": [
       "\\begin{tabular}{r|cccccccccccc}\n",
       "\t& bus & pg & qg & qmax & qmin & vg & mbase & status & pmax & pmin & pc1 & \\\\\n",
       "\t\\hline\n",
       "\t& Int64 & Int64 & Int64 & Float64 & Float64 & Int64 & Int64 & Int64 & Int64 & Int64 & Int64 & \\\\\n",
       "\t\\hline\n",
       "\t1 & 1 & 40 & 0 & 30.0 & -30.0 & 1 & 100 & 1 & 1000 & 0 & 0 & $\\dots$ \\\\\n",
       "\t2 & 2 & 170 & 0 & 127.5 & -127.5 & 1 & 100 & 1 & 1000 & 0 & 0 & $\\dots$ \\\\\n",
       "\\end{tabular}\n"
      ],
      "text/plain": [
       "\u001b[1m2×22 DataFrame\u001b[0m\n",
       "\u001b[1m Row \u001b[0m│\u001b[1m bus   \u001b[0m\u001b[1m pg    \u001b[0m\u001b[1m qg    \u001b[0m\u001b[1m qmax    \u001b[0m\u001b[1m qmin    \u001b[0m\u001b[1m vg    \u001b[0m\u001b[1m mbase \u001b[0m\u001b[1m status \u001b[0m\u001b[1m pmax  \u001b[0m\u001b[1m pmi\u001b[0m ⋯\n",
       "     │\u001b[90m Int64 \u001b[0m\u001b[90m Int64 \u001b[0m\u001b[90m Int64 \u001b[0m\u001b[90m Float64 \u001b[0m\u001b[90m Float64 \u001b[0m\u001b[90m Int64 \u001b[0m\u001b[90m Int64 \u001b[0m\u001b[90m Int64  \u001b[0m\u001b[90m Int64 \u001b[0m\u001b[90m Int\u001b[0m ⋯\n",
       "─────┼──────────────────────────────────────────────────────────────────────────\n",
       "   1 │     1     40      0     30.0    -30.0      1    100       1   1000      ⋯\n",
       "   2 │     2    170      0    127.5   -127.5      1    100       1   1000\n",
       "\u001b[36m                                                              13 columns omitted\u001b[0m"
      ]
     },
     "metadata": {},
     "output_type": "display_data"
    },
    {
     "data": {
      "text/html": [
       "<div><div style = \"float: left;\"><span>6×15 DataFrame</span></div><div style = \"clear: both;\"></div></div><div class = \"data-frame\" style = \"overflow-x: scroll;\"><table class = \"data-frame\" style = \"margin-bottom: 6px;\"><thead><tr class = \"header\"><th class = \"rowNumber\" style = \"font-weight: bold; text-align: right;\">Row</th><th style = \"text-align: left;\">fbus</th><th style = \"text-align: left;\">tbus</th><th style = \"text-align: left;\">r</th><th style = \"text-align: left;\">x</th><th style = \"text-align: left;\">b</th><th style = \"text-align: left;\">ratea</th><th style = \"text-align: left;\">rateb</th><th style = \"text-align: left;\">ratec</th><th style = \"text-align: left;\">ratio</th><th style = \"text-align: left;\">angle</th><th style = \"text-align: left;\">status</th><th style = \"text-align: left;\">angmin</th><th style = \"text-align: left;\">angmax</th><th style = \"text-align: left;\">id</th><th style = \"text-align: left;\">sus</th></tr><tr class = \"subheader headerLastRow\"><th class = \"rowNumber\" style = \"font-weight: bold; text-align: right;\"></th><th title = \"Int64\" style = \"text-align: left;\">Int64</th><th title = \"Int64\" style = \"text-align: left;\">Int64</th><th title = \"Float64\" style = \"text-align: left;\">Float64</th><th title = \"Float64\" style = \"text-align: left;\">Float64</th><th title = \"Float64\" style = \"text-align: left;\">Float64</th><th title = \"Int64\" style = \"text-align: left;\">Int64</th><th title = \"Int64\" style = \"text-align: left;\">Int64</th><th title = \"Int64\" style = \"text-align: left;\">Int64</th><th title = \"Int64\" style = \"text-align: left;\">Int64</th><th title = \"Int64\" style = \"text-align: left;\">Int64</th><th title = \"Int64\" style = \"text-align: left;\">Int64</th><th title = \"Int64\" style = \"text-align: left;\">Int64</th><th title = \"Int64\" style = \"text-align: left;\">Int64</th><th title = \"Int64\" style = \"text-align: left;\">Int64</th><th title = \"Float64\" style = \"text-align: left;\">Float64</th></tr></thead><tbody><tr><td class = \"rowNumber\" style = \"font-weight: bold; text-align: right;\">1</td><td style = \"text-align: right;\">1</td><td style = \"text-align: right;\">3</td><td style = \"text-align: right;\">0.00281</td><td style = \"text-align: right;\">0.0281</td><td style = \"text-align: right;\">0.00712</td><td style = \"text-align: right;\">500</td><td style = \"text-align: right;\">500</td><td style = \"text-align: right;\">500</td><td style = \"text-align: right;\">0</td><td style = \"text-align: right;\">0</td><td style = \"text-align: right;\">1</td><td style = \"text-align: right;\">-360</td><td style = \"text-align: right;\">360</td><td style = \"text-align: right;\">1</td><td style = \"text-align: right;\">35.5872</td></tr><tr><td class = \"rowNumber\" style = \"font-weight: bold; text-align: right;\">2</td><td style = \"text-align: right;\">1</td><td style = \"text-align: right;\">2</td><td style = \"text-align: right;\">0.00281</td><td style = \"text-align: right;\">0.0281</td><td style = \"text-align: right;\">0.00712</td><td style = \"text-align: right;\">500</td><td style = \"text-align: right;\">500</td><td style = \"text-align: right;\">500</td><td style = \"text-align: right;\">0</td><td style = \"text-align: right;\">0</td><td style = \"text-align: right;\">1</td><td style = \"text-align: right;\">-360</td><td style = \"text-align: right;\">360</td><td style = \"text-align: right;\">2</td><td style = \"text-align: right;\">35.5872</td></tr><tr><td class = \"rowNumber\" style = \"font-weight: bold; text-align: right;\">3</td><td style = \"text-align: right;\">2</td><td style = \"text-align: right;\">3</td><td style = \"text-align: right;\">0.00281</td><td style = \"text-align: right;\">0.0281</td><td style = \"text-align: right;\">0.00712</td><td style = \"text-align: right;\">500</td><td style = \"text-align: right;\">500</td><td style = \"text-align: right;\">500</td><td style = \"text-align: right;\">0</td><td style = \"text-align: right;\">0</td><td style = \"text-align: right;\">1</td><td style = \"text-align: right;\">-360</td><td style = \"text-align: right;\">360</td><td style = \"text-align: right;\">3</td><td style = \"text-align: right;\">35.5872</td></tr><tr><td class = \"rowNumber\" style = \"font-weight: bold; text-align: right;\">4</td><td style = \"text-align: right;\">3</td><td style = \"text-align: right;\">1</td><td style = \"text-align: right;\">0.00281</td><td style = \"text-align: right;\">0.0281</td><td style = \"text-align: right;\">0.00712</td><td style = \"text-align: right;\">500</td><td style = \"text-align: right;\">500</td><td style = \"text-align: right;\">500</td><td style = \"text-align: right;\">0</td><td style = \"text-align: right;\">0</td><td style = \"text-align: right;\">1</td><td style = \"text-align: right;\">-360</td><td style = \"text-align: right;\">360</td><td style = \"text-align: right;\">1</td><td style = \"text-align: right;\">35.5872</td></tr><tr><td class = \"rowNumber\" style = \"font-weight: bold; text-align: right;\">5</td><td style = \"text-align: right;\">2</td><td style = \"text-align: right;\">1</td><td style = \"text-align: right;\">0.00281</td><td style = \"text-align: right;\">0.0281</td><td style = \"text-align: right;\">0.00712</td><td style = \"text-align: right;\">500</td><td style = \"text-align: right;\">500</td><td style = \"text-align: right;\">500</td><td style = \"text-align: right;\">0</td><td style = \"text-align: right;\">0</td><td style = \"text-align: right;\">1</td><td style = \"text-align: right;\">-360</td><td style = \"text-align: right;\">360</td><td style = \"text-align: right;\">2</td><td style = \"text-align: right;\">35.5872</td></tr><tr><td class = \"rowNumber\" style = \"font-weight: bold; text-align: right;\">6</td><td style = \"text-align: right;\">3</td><td style = \"text-align: right;\">2</td><td style = \"text-align: right;\">0.00281</td><td style = \"text-align: right;\">0.0281</td><td style = \"text-align: right;\">0.00712</td><td style = \"text-align: right;\">500</td><td style = \"text-align: right;\">500</td><td style = \"text-align: right;\">500</td><td style = \"text-align: right;\">0</td><td style = \"text-align: right;\">0</td><td style = \"text-align: right;\">1</td><td style = \"text-align: right;\">-360</td><td style = \"text-align: right;\">360</td><td style = \"text-align: right;\">3</td><td style = \"text-align: right;\">35.5872</td></tr></tbody></table></div>"
      ],
      "text/latex": [
       "\\begin{tabular}{r|cccccccccccc}\n",
       "\t& fbus & tbus & r & x & b & ratea & rateb & ratec & ratio & angle & status & \\\\\n",
       "\t\\hline\n",
       "\t& Int64 & Int64 & Float64 & Float64 & Float64 & Int64 & Int64 & Int64 & Int64 & Int64 & Int64 & \\\\\n",
       "\t\\hline\n",
       "\t1 & 1 & 3 & 0.00281 & 0.0281 & 0.00712 & 500 & 500 & 500 & 0 & 0 & 1 & $\\dots$ \\\\\n",
       "\t2 & 1 & 2 & 0.00281 & 0.0281 & 0.00712 & 500 & 500 & 500 & 0 & 0 & 1 & $\\dots$ \\\\\n",
       "\t3 & 2 & 3 & 0.00281 & 0.0281 & 0.00712 & 500 & 500 & 500 & 0 & 0 & 1 & $\\dots$ \\\\\n",
       "\t4 & 3 & 1 & 0.00281 & 0.0281 & 0.00712 & 500 & 500 & 500 & 0 & 0 & 1 & $\\dots$ \\\\\n",
       "\t5 & 2 & 1 & 0.00281 & 0.0281 & 0.00712 & 500 & 500 & 500 & 0 & 0 & 1 & $\\dots$ \\\\\n",
       "\t6 & 3 & 2 & 0.00281 & 0.0281 & 0.00712 & 500 & 500 & 500 & 0 & 0 & 1 & $\\dots$ \\\\\n",
       "\\end{tabular}\n"
      ],
      "text/plain": [
       "\u001b[1m6×15 DataFrame\u001b[0m\n",
       "\u001b[1m Row \u001b[0m│\u001b[1m fbus  \u001b[0m\u001b[1m tbus  \u001b[0m\u001b[1m r       \u001b[0m\u001b[1m x       \u001b[0m\u001b[1m b       \u001b[0m\u001b[1m ratea \u001b[0m\u001b[1m rateb \u001b[0m\u001b[1m ratec \u001b[0m\u001b[1m ratio \u001b[0m\u001b[1m an\u001b[0m ⋯\n",
       "     │\u001b[90m Int64 \u001b[0m\u001b[90m Int64 \u001b[0m\u001b[90m Float64 \u001b[0m\u001b[90m Float64 \u001b[0m\u001b[90m Float64 \u001b[0m\u001b[90m Int64 \u001b[0m\u001b[90m Int64 \u001b[0m\u001b[90m Int64 \u001b[0m\u001b[90m Int64 \u001b[0m\u001b[90m In\u001b[0m ⋯\n",
       "─────┼──────────────────────────────────────────────────────────────────────────\n",
       "   1 │     1      3  0.00281   0.0281  0.00712    500    500    500      0     ⋯\n",
       "   2 │     1      2  0.00281   0.0281  0.00712    500    500    500      0\n",
       "   3 │     2      3  0.00281   0.0281  0.00712    500    500    500      0\n",
       "   4 │     3      1  0.00281   0.0281  0.00712    500    500    500      0\n",
       "   5 │     2      1  0.00281   0.0281  0.00712    500    500    500      0     ⋯\n",
       "   6 │     3      2  0.00281   0.0281  0.00712    500    500    500      0\n",
       "\u001b[36m                                                               6 columns omitted\u001b[0m"
      ]
     },
     "metadata": {},
     "output_type": "display_data"
    },
    {
     "data": {
      "text/html": [
       "<div><div style = \"float: left;\"><span>2×7 DataFrame</span></div><div style = \"clear: both;\"></div></div><div class = \"data-frame\" style = \"overflow-x: scroll;\"><table class = \"data-frame\" style = \"margin-bottom: 6px;\"><thead><tr class = \"header\"><th class = \"rowNumber\" style = \"font-weight: bold; text-align: right;\">Row</th><th style = \"text-align: left;\">model</th><th style = \"text-align: left;\">startup</th><th style = \"text-align: left;\">shutdown</th><th style = \"text-align: left;\">n</th><th style = \"text-align: left;\">x1</th><th style = \"text-align: left;\">y1</th><th style = \"text-align: left;\">id</th></tr><tr class = \"subheader headerLastRow\"><th class = \"rowNumber\" style = \"font-weight: bold; text-align: right;\"></th><th title = \"Int64\" style = \"text-align: left;\">Int64</th><th title = \"Int64\" style = \"text-align: left;\">Int64</th><th title = \"Int64\" style = \"text-align: left;\">Int64</th><th title = \"Int64\" style = \"text-align: left;\">Int64</th><th title = \"Int64\" style = \"text-align: left;\">Int64</th><th title = \"Int64\" style = \"text-align: left;\">Int64</th><th title = \"Int64\" style = \"text-align: left;\">Int64</th></tr></thead><tbody><tr><td class = \"rowNumber\" style = \"font-weight: bold; text-align: right;\">1</td><td style = \"text-align: right;\">2</td><td style = \"text-align: right;\">0</td><td style = \"text-align: right;\">0</td><td style = \"text-align: right;\">2</td><td style = \"text-align: right;\">50</td><td style = \"text-align: right;\">0</td><td style = \"text-align: right;\">1</td></tr><tr><td class = \"rowNumber\" style = \"font-weight: bold; text-align: right;\">2</td><td style = \"text-align: right;\">2</td><td style = \"text-align: right;\">0</td><td style = \"text-align: right;\">0</td><td style = \"text-align: right;\">2</td><td style = \"text-align: right;\">100</td><td style = \"text-align: right;\">0</td><td style = \"text-align: right;\">2</td></tr></tbody></table></div>"
      ],
      "text/latex": [
       "\\begin{tabular}{r|ccccccc}\n",
       "\t& model & startup & shutdown & n & x1 & y1 & id\\\\\n",
       "\t\\hline\n",
       "\t& Int64 & Int64 & Int64 & Int64 & Int64 & Int64 & Int64\\\\\n",
       "\t\\hline\n",
       "\t1 & 2 & 0 & 0 & 2 & 50 & 0 & 1 \\\\\n",
       "\t2 & 2 & 0 & 0 & 2 & 100 & 0 & 2 \\\\\n",
       "\\end{tabular}\n"
      ],
      "text/plain": [
       "\u001b[1m2×7 DataFrame\u001b[0m\n",
       "\u001b[1m Row \u001b[0m│\u001b[1m model \u001b[0m\u001b[1m startup \u001b[0m\u001b[1m shutdown \u001b[0m\u001b[1m n     \u001b[0m\u001b[1m x1    \u001b[0m\u001b[1m y1    \u001b[0m\u001b[1m id    \u001b[0m\n",
       "     │\u001b[90m Int64 \u001b[0m\u001b[90m Int64   \u001b[0m\u001b[90m Int64    \u001b[0m\u001b[90m Int64 \u001b[0m\u001b[90m Int64 \u001b[0m\u001b[90m Int64 \u001b[0m\u001b[90m Int64 \u001b[0m\n",
       "─────┼──────────────────────────────────────────────────────\n",
       "   1 │     2        0         0      2     50      0      1\n",
       "   2 │     2        0         0      2    100      0      2"
      ]
     },
     "metadata": {},
     "output_type": "display_data"
    }
   ],
   "source": [
    "for f in [gen, gencost, branch, bus]\n",
    "    rename!(f,lowercase.(names(f)))\n",
    "end\n",
    "\n",
    "# create generator ids \n",
    "gen.id = 1:nrow(gen);\n",
    "gencost.id = 1:nrow(gencost);\n",
    "\n",
    "# create line ids \n",
    "branch.id = 1:nrow(branch);\n",
    "# add set of rows for reverse direction with same parameters\n",
    "branch2 = copy(branch)\n",
    "branch2.f = branch2.fbus\n",
    "branch2.fbus = branch.tbus\n",
    "branch2.tbus = branch2.f\n",
    "branch2 = branch2[:,names(branch)]\n",
    "append!(branch,branch2)\n",
    "\n",
    "# Calculate the susceptance of each line, on the assumption that\n",
    "# reactance is >> resistance, such that we can approximate \n",
    "# resistance as = 0 and treat susceptance as the simple  \n",
    "# reciprocal of reactance (x). \n",
    "# See https://en.wikipedia.org/wiki/Susceptance#Relationship_to_reactance\n",
    "branch.sus = 1 ./ branch.x \n",
    "\n",
    "# Here are the buses:\n",
    "display(bus)\n",
    "display(gen)\n",
    "display(branch)\n",
    "display(gencost)"
   ]
  },
  {
   "cell_type": "code",
   "execution_count": 28,
   "metadata": {},
   "outputs": [
    {
     "name": "stdout",
     "output_type": "stream",
     "text": [
      "[1, 2]\n",
      "[1, 2, 3]\n"
     ]
    }
   ],
   "source": [
    "println(gen.id)\n",
    "println(bus.bus_i)"
   ]
  },
  {
   "cell_type": "code",
   "execution_count": 29,
   "metadata": {},
   "outputs": [
    {
     "name": "stdout",
     "output_type": "stream",
     "text": [
      "Running HiGHS 1.6.0: Copyright (c) 2023 HiGHS under MIT licence terms\n",
      "Presolving model\n",
      "8 rows, 9 cols, 20 nonzeros\n",
      "0 rows, 0 cols, 0 nonzeros\n",
      "Presolve : Reductions: rows 0(-17); columns 0(-14); elements 0(-34) - Reduced to empty\n",
      "Solving the original LP from the solution after postsolve\n",
      "Model   status      : Optimal\n",
      "Objective value     :  3.0000000000e+04\n",
      "HiGHS run time      :          0.00\n"
     ]
    }
   ],
   "source": [
    "model = Model(HiGHS.Optimizer);\n",
    "\n",
    "# Define Sets\n",
    "G = gen.id;    # set of generators\n",
    "N = bus.bus_i; # set of buses\n",
    "\n",
    "# Define per unit base units for the system\n",
    "base_MVA = gen.mbase[1];\n",
    "\n",
    "# Decision Variables\n",
    "@variables(model, begin\n",
    "    GEN[G] >= 0\n",
    "    THETA[N]\n",
    "    FLOW[N, N]\n",
    "end);\n",
    "\n",
    "# Create Slack bus\n",
    "fix(THETA[1], 0);\n",
    "\n",
    "# objective_function\n",
    "@objective(model, Min, sum( gencost[g, :x1] * GEN[g] for g in G));\n",
    "\n",
    "# Power Balance\n",
    "@constraint(model, cBalance[i in N],\n",
    "    sum(GEN[g] for g in gen[gen.bus .== i, :id]) - bus[bus.bus_i .== i, :pd][1]\n",
    "    ==\n",
    "    sum(FLOW[i,j] for j in branch[branch.fbus .== i, :tbus])\n",
    ");\n",
    "\n",
    "# Max Generation\n",
    "@constraint(model, cMaxGen[g in G],\n",
    "    GEN[g] <= gen[g, :pmax]\n",
    ")\n",
    "\n",
    "# \n",
    "@constraint(model, cLineFlow[l in 1:nrow(branch)],\n",
    "    FLOW[branch[l, :fbus], branch[l, :tbus]] # sus: susceptance\n",
    "    == \n",
    "    base_MVA*branch[l, :sus] *(THETA[branch[l, :fbus]] - THETA[branch[l, :tbus]])\n",
    ");\n",
    "\n",
    "# Max Line Flow\n",
    "@constraint(model, cLineLimits[l in 1:nrow(branch)],\n",
    "    FLOW[branch[l, :fbus], branch[l, :tbus]] <= branch[l, :ratea]\n",
    ");\n",
    "\n",
    "# Solve statement\n",
    "optimize!(model)"
   ]
  },
  {
   "cell_type": "code",
   "execution_count": 31,
   "metadata": {},
   "outputs": [
    {
     "data": {
      "text/html": [
       "<div><div style = \"float: left;\"><span>2×3 DataFrame</span></div><div style = \"clear: both;\"></div></div><div class = \"data-frame\" style = \"overflow-x: scroll;\"><table class = \"data-frame\" style = \"margin-bottom: 6px;\"><thead><tr class = \"header\"><th class = \"rowNumber\" style = \"font-weight: bold; text-align: right;\">Row</th><th style = \"text-align: left;\">id</th><th style = \"text-align: left;\">node</th><th style = \"text-align: left;\">gen</th></tr><tr class = \"subheader headerLastRow\"><th class = \"rowNumber\" style = \"font-weight: bold; text-align: right;\"></th><th title = \"Int64\" style = \"text-align: left;\">Int64</th><th title = \"Int64\" style = \"text-align: left;\">Int64</th><th title = \"Float64\" style = \"text-align: left;\">Float64</th></tr></thead><tbody><tr><td class = \"rowNumber\" style = \"font-weight: bold; text-align: right;\">1</td><td style = \"text-align: right;\">1</td><td style = \"text-align: right;\">1</td><td style = \"text-align: right;\">600.0</td></tr><tr><td class = \"rowNumber\" style = \"font-weight: bold; text-align: right;\">2</td><td style = \"text-align: right;\">2</td><td style = \"text-align: right;\">2</td><td style = \"text-align: right;\">0.0</td></tr></tbody></table></div>"
      ],
      "text/latex": [
       "\\begin{tabular}{r|ccc}\n",
       "\t& id & node & gen\\\\\n",
       "\t\\hline\n",
       "\t& Int64 & Int64 & Float64\\\\\n",
       "\t\\hline\n",
       "\t1 & 1 & 1 & 600.0 \\\\\n",
       "\t2 & 2 & 2 & 0.0 \\\\\n",
       "\\end{tabular}\n"
      ],
      "text/plain": [
       "\u001b[1m2×3 DataFrame\u001b[0m\n",
       "\u001b[1m Row \u001b[0m│\u001b[1m id    \u001b[0m\u001b[1m node  \u001b[0m\u001b[1m gen     \u001b[0m\n",
       "     │\u001b[90m Int64 \u001b[0m\u001b[90m Int64 \u001b[0m\u001b[90m Float64 \u001b[0m\n",
       "─────┼───────────────────────\n",
       "   1 │     1      1    600.0\n",
       "   2 │     2      2      0.0"
      ]
     },
     "metadata": {},
     "output_type": "display_data"
    },
    {
     "name": "stdout",
     "output_type": "stream",
     "text": [
      "cost: 30000.0\n"
     ]
    },
    {
     "data": {
      "text/plain": [
       "3×3 Matrix{Float64}:\n",
       "    0.0   200.0  400.0\n",
       " -200.0     0.0  200.0\n",
       " -400.0  -200.0    0.0"
      ]
     },
     "metadata": {},
     "output_type": "display_data"
    }
   ],
   "source": [
    "generation = DataFrame(id=gen.id,\n",
    "                    node = gen.bus, \n",
    "                    gen = value.(GEN).data\n",
    ")\n",
    "\n",
    "display(generation)\n",
    "println(\"cost: $(objective_value(model))\")\n",
    "display(value.(FLOW).data)"
   ]
  },
  {
   "cell_type": "code",
   "execution_count": null,
   "metadata": {},
   "outputs": [],
   "source": []
  }
 ],
 "metadata": {
  "kernelspec": {
   "display_name": "Julia 1.8.2",
   "language": "julia",
   "name": "julia-1.8"
  },
  "language_info": {
   "file_extension": ".jl",
   "mimetype": "application/julia",
   "name": "julia",
   "version": "1.8.2"
  }
 },
 "nbformat": 4,
 "nbformat_minor": 2
}
