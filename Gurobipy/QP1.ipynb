{
 "cells": [
  {
   "attachments": {},
   "cell_type": "markdown",
   "metadata": {},
   "source": [
    "## QP"
   ]
  },
  {
   "cell_type": "code",
   "execution_count": 75,
   "metadata": {},
   "outputs": [],
   "source": [
    "import numpy as np\n",
    "import pandas as pd\n",
    "import matplotlib.pyplot as plt\n",
    "\n",
    "import gurobipy as gp\n",
    "from gurobipy import GRB"
   ]
  },
  {
   "attachments": {},
   "cell_type": "markdown",
   "metadata": {},
   "source": [
    "\\begin{equation}\n",
    "\\begin{aligned}\n",
    "\n",
    "\\min_{} \\quad & x^2 + xy + y^2 + yz + z^2 + 2x\\\\\n",
    "\\textrm{s.t.} \\quad & x + 2y + 3z \\ge 4 \\\\\n",
    "                    & x + y \\ge 1\\\\\n",
    "                    & x, y, z \\ge 0\n",
    "\n",
    "\\end{aligned}\n",
    "\\end{equation}"
   ]
  },
  {
   "attachments": {},
   "cell_type": "markdown",
   "metadata": {},
   "source": [
    "## Create a new Gurobi Model"
   ]
  },
  {
   "cell_type": "code",
   "execution_count": 76,
   "metadata": {},
   "outputs": [],
   "source": [
    "m = gp.Model('qp')"
   ]
  },
  {
   "attachments": {},
   "cell_type": "markdown",
   "metadata": {},
   "source": [
    "## Create three new variables"
   ]
  },
  {
   "cell_type": "code",
   "execution_count": 77,
   "metadata": {},
   "outputs": [],
   "source": [
    "x = m.addVar(lb=0, name='x')\n",
    "y = m.addVar(lb=0, name='y')\n",
    "z = m.addVar(lb=0, name='z')"
   ]
  },
  {
   "attachments": {},
   "cell_type": "markdown",
   "metadata": {},
   "source": [
    "## Set the objective function"
   ]
  },
  {
   "cell_type": "code",
   "execution_count": 78,
   "metadata": {},
   "outputs": [],
   "source": [
    "m.setObjective(x**2 + x*y + y**2 + y*z + z**2 + 2*x)"
   ]
  },
  {
   "attachments": {},
   "cell_type": "markdown",
   "metadata": {},
   "source": [
    "## Add constraints"
   ]
  },
  {
   "cell_type": "code",
   "execution_count": 79,
   "metadata": {},
   "outputs": [
    {
     "data": {
      "text/plain": [
       "<gurobi.Constr *Awaiting Model Update*>"
      ]
     },
     "execution_count": 79,
     "metadata": {},
     "output_type": "execute_result"
    }
   ],
   "source": [
    "m.addConstr(x + 2*y + 3*z >= 4, 'c0')\n",
    "m.addConstr(x + y >= 1, 'c1')"
   ]
  },
  {
   "attachments": {},
   "cell_type": "markdown",
   "metadata": {},
   "source": [
    "## Solve the model"
   ]
  },
  {
   "cell_type": "code",
   "execution_count": 80,
   "metadata": {},
   "outputs": [
    {
     "name": "stdout",
     "output_type": "stream",
     "text": [
      "Gurobi Optimizer version 10.0.0 build v10.0.0rc2 (win64)\n",
      "\n",
      "CPU model: Intel(R) Core(TM) i5-10400F CPU @ 2.90GHz, instruction set [SSE2|AVX|AVX2]\n",
      "Thread count: 6 physical cores, 12 logical processors, using up to 12 threads\n",
      "\n",
      "Optimize a model with 2 rows, 3 columns and 5 nonzeros\n",
      "Model fingerprint: 0xe6f007c4\n",
      "Model has 5 quadratic objective terms\n",
      "Coefficient statistics:\n",
      "  Matrix range     [1e+00, 3e+00]\n",
      "  Objective range  [2e+00, 2e+00]\n",
      "  QObjective range [2e+00, 2e+00]\n",
      "  Bounds range     [0e+00, 0e+00]\n",
      "  RHS range        [1e+00, 4e+00]\n",
      "Presolve time: 0.00s\n",
      "Presolved: 2 rows, 3 columns, 5 nonzeros\n",
      "Presolved model has 5 quadratic objective terms\n",
      "Ordering time: 0.00s\n",
      "\n",
      "Barrier statistics:\n",
      " Free vars  : 2\n",
      " AA' NZ     : 6.000e+00\n",
      " Factor NZ  : 1.000e+01\n",
      " Factor Ops : 3.000e+01 (less than 1 second per iteration)\n",
      " Threads    : 1\n",
      "\n",
      "                  Objective                Residual\n",
      "Iter       Primal          Dual         Primal    Dual     Compl     Time\n",
      "   0   1.68862999e+05 -1.66862803e+05  1.50e+03 4.63e-07  9.99e+05     0s\n",
      "   1   3.32288030e+05 -3.31121401e+05  1.50e-03 4.55e-13  1.33e+05     0s\n",
      "   2   4.88215027e+04 -4.83744738e+04  1.50e-09 2.84e-14  1.94e+04     0s\n",
      "   3   7.20552197e+03 -7.03403484e+03  4.97e-14 2.84e-14  2.85e+03     0s\n",
      "   4   1.07582166e+03 -1.00982226e+03  2.84e-14 7.11e-15  4.17e+02     0s\n",
      "   5   1.65319400e+02 -1.39657698e+02  8.88e-15 1.78e-15  6.10e+01     0s\n",
      "   6   2.72141305e+01 -1.68504217e+01  1.78e-15 2.66e-15  8.81e+00     0s\n",
      "   7   5.34776479e+00 -4.13214640e-01  4.44e-16 6.66e-16  1.15e+00     0s\n",
      "   8   2.27046251e+00  2.04615758e+00  2.22e-16 2.22e-16  4.49e-02     0s\n",
      "   9   2.11217859e+00  2.11101837e+00  8.22e-15 4.44e-16  2.32e-04     0s\n",
      "  10   2.11111218e+00  2.11111102e+00  4.44e-15 2.22e-16  2.32e-07     0s\n",
      "  11   2.11111111e+00  2.11111111e+00  4.22e-15 2.22e-16  2.32e-10     0s\n",
      "\n",
      "Barrier solved model in 11 iterations and 0.02 seconds (0.00 work units)\n",
      "Optimal objective 2.11111111e+00\n",
      "\n"
     ]
    }
   ],
   "source": [
    "m.optimize()"
   ]
  },
  {
   "attachments": {},
   "cell_type": "markdown",
   "metadata": {},
   "source": [
    "## Identify results"
   ]
  },
  {
   "cell_type": "code",
   "execution_count": 81,
   "metadata": {},
   "outputs": [
    {
     "name": "stdout",
     "output_type": "stream",
     "text": [
      "Obj Function: 2.1111111121797834\n",
      "x 0.0\n",
      "y 1.0\n",
      "z 1.0\n",
      "\n",
      "Optimal Solution:\n",
      "x 0.0\n",
      "y 1.0\n"
     ]
    }
   ],
   "source": [
    "if m.status == GRB.Status.OPTIMAL:\n",
    "    print('Obj Function:', m.objVal)\n",
    "    for v in m.getVars():\n",
    "        print(v.varName, np.round(v.x))\n",
    "\n",
    "    print()\n",
    "# Another way to print the variable\n",
    "    print(\"Optimal Solution:\")\n",
    "    print(x.varName, np.round(x.x))\n",
    "    print(y.varName, np.round(y.x))        \n",
    "else:\n",
    "    print(m.status)"
   ]
  },
  {
   "cell_type": "code",
   "execution_count": null,
   "metadata": {},
   "outputs": [],
   "source": []
  }
 ],
 "metadata": {
  "kernelspec": {
   "display_name": "base",
   "language": "python",
   "name": "python3"
  },
  "language_info": {
   "codemirror_mode": {
    "name": "ipython",
    "version": 3
   },
   "file_extension": ".py",
   "mimetype": "text/x-python",
   "name": "python",
   "nbconvert_exporter": "python",
   "pygments_lexer": "ipython3",
   "version": "3.9.7 (default, Sep 16 2021, 16:59:28) [MSC v.1916 64 bit (AMD64)]"
  },
  "orig_nbformat": 4,
  "vscode": {
   "interpreter": {
    "hash": "e4cce46d6be9934fbd27f9ca0432556941ea5bdf741d4f4d64c6cd7f8dfa8fba"
   }
  }
 },
 "nbformat": 4,
 "nbformat_minor": 2
}
