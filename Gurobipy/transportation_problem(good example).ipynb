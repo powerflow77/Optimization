{
 "cells": [
  {
   "attachments": {},
   "cell_type": "markdown",
   "metadata": {},
   "source": [
    "## --The Start--"
   ]
  },
  {
   "cell_type": "markdown",
   "metadata": {},
   "source": [
    "<H1>The Transportation Problem</H1>\n",
    "* Consider a set of warehouses each with a given inventory of widgets, and a set of demand centers each with a given demand for widgets. \n",
    "* How many widgets should we ship from each warehouse to each demand center such that all demand is satisfied and shipping costs are minimized?"
   ]
  },
  {
   "attachments": {},
   "cell_type": "markdown",
   "metadata": {},
   "source": [
    "\\begin{equation}\n",
    "\\begin{aligned}\n",
    "\n",
    "& i \\in I: \\textrm{Warehouses} \\\\\n",
    "& j \\in J: \\textrm{Customers (demand centers)}\\\\\n",
    "\n",
    "\n",
    "& u_i: \\textrm{capacity for warehouse i (widgets)} \\\\\n",
    "& d_j: \\textrm{demand at demand center j (widgets)} \\\\\n",
    "& c_{ij}: \\textrm{shipping cost from warehouse i to customer j (\\$/widget)} \\\\\n",
    "& x_{ij}: \\textrm{the number of widgets to ship from warehouse i to customer j}\\\\\n",
    "\n",
    "\\\\\n",
    "\\\\\n",
    "& \\textrm{Linear Programming Formulation}\\\\\n",
    "\\min_{x} \\quad & \\sum_{i \\in I}\\sum_{j \\in J} c_{ij} x_{ij} \\quad \\textrm{(minimize shipping costs)}\\\\\n",
    "\\textrm{s.t.} \\quad & \\sum_{i \\in I} x_{ij} = d_{j}, \\quad j \\in J \\textrm{(satisfy demand)}\\\\\n",
    "                    & \\sum_{j \\in J} x_{ij} \\le u_{i}, \\quad i \\in I \\textrm{(don't exceed capacity)}\\\\\n",
    "                    & x_{ij} \\ge 0, \\quad i \\in I, j \\in J \\quad \\textrm{(ship nonnegative quantities)}\n",
    "\n",
    "\\end{aligned}\n",
    "\\end{equation}"
   ]
  },
  {
   "cell_type": "code",
   "execution_count": 19,
   "metadata": {},
   "outputs": [],
   "source": [
    "import numpy as np\n",
    "import pandas as pd\n",
    "import networkx as nx\n",
    "import matplotlib.pyplot as plt\n",
    "\n",
    "import gurobipy as gp\n",
    "from gurobipy import GRB"
   ]
  },
  {
   "attachments": {},
   "cell_type": "markdown",
   "metadata": {},
   "source": [
    "## Create a new network\n",
    "- 이 예제에서는 안 쓰는데, 걍 미래를 위해 남겨놓음."
   ]
  },
  {
   "cell_type": "code",
   "execution_count": 20,
   "metadata": {},
   "outputs": [
    {
     "data": {
      "text/html": [
       "<div>\n",
       "<style scoped>\n",
       "    .dataframe tbody tr th:only-of-type {\n",
       "        vertical-align: middle;\n",
       "    }\n",
       "\n",
       "    .dataframe tbody tr th {\n",
       "        vertical-align: top;\n",
       "    }\n",
       "\n",
       "    .dataframe thead th {\n",
       "        text-align: right;\n",
       "    }\n",
       "</style>\n",
       "<table border=\"1\" class=\"dataframe\">\n",
       "  <thead>\n",
       "    <tr style=\"text-align: right;\">\n",
       "      <th></th>\n",
       "      <th>from</th>\n",
       "      <th>to</th>\n",
       "    </tr>\n",
       "  </thead>\n",
       "  <tbody>\n",
       "    <tr>\n",
       "      <th>0</th>\n",
       "      <td>a</td>\n",
       "      <td>4</td>\n",
       "    </tr>\n",
       "    <tr>\n",
       "      <th>1</th>\n",
       "      <td>a</td>\n",
       "      <td>1</td>\n",
       "    </tr>\n",
       "    <tr>\n",
       "      <th>2</th>\n",
       "      <td>b</td>\n",
       "      <td>2</td>\n",
       "    </tr>\n",
       "    <tr>\n",
       "      <th>3</th>\n",
       "      <td>c</td>\n",
       "      <td>2</td>\n",
       "    </tr>\n",
       "    <tr>\n",
       "      <th>4</th>\n",
       "      <td>c</td>\n",
       "      <td>1</td>\n",
       "    </tr>\n",
       "    <tr>\n",
       "      <th>5</th>\n",
       "      <td>c</td>\n",
       "      <td>3</td>\n",
       "    </tr>\n",
       "    <tr>\n",
       "      <th>6</th>\n",
       "      <td>d</td>\n",
       "      <td>4</td>\n",
       "    </tr>\n",
       "  </tbody>\n",
       "</table>\n",
       "</div>"
      ],
      "text/plain": [
       "  from  to\n",
       "0    a   4\n",
       "1    a   1\n",
       "2    b   2\n",
       "3    c   2\n",
       "4    c   1\n",
       "5    c   3\n",
       "6    d   4"
      ]
     },
     "metadata": {},
     "output_type": "display_data"
    }
   ],
   "source": [
    "relationship = pd.DataFrame({'from': ['a', 'a', 'b', 'c', 'c', 'c', 'd'],\n",
    "                            'to': [4, 1, 2, 2, 1, 3, 4] })\n",
    "display(relationship)"
   ]
  },
  {
   "attachments": {},
   "cell_type": "markdown",
   "metadata": {},
   "source": [
    "## Find the incidence matrix"
   ]
  },
  {
   "attachments": {},
   "cell_type": "markdown",
   "metadata": {},
   "source": [
    "- oriented=True이면 incidence matrix에서 'from'과 'to'가 -1, +1로 나타남.\n",
    "- oriented=False이면 incidence matrix에서 연결 상태만 말해줌."
   ]
  },
  {
   "cell_type": "code",
   "execution_count": 21,
   "metadata": {},
   "outputs": [
    {
     "name": "stdout",
     "output_type": "stream",
     "text": [
      "[[1. 1. 0. 0. 0. 0. 0.]\n",
      " [1. 0. 1. 0. 0. 0. 0.]\n",
      " [0. 1. 0. 1. 0. 0. 0.]\n",
      " [0. 0. 0. 0. 1. 0. 0.]\n",
      " [0. 0. 0. 0. 1. 1. 0.]\n",
      " [0. 0. 0. 1. 0. 1. 1.]\n",
      " [0. 0. 0. 0. 0. 0. 1.]\n",
      " [0. 0. 1. 0. 0. 0. 0.]]\n"
     ]
    }
   ],
   "source": [
    "g = nx.from_pandas_edgelist(df=relationship, source='from', target='to', create_using=nx.Graph())\n",
    "A = nx.incidence_matrix(G=g, oriented=False)\n",
    "\n",
    "print(A.todense())"
   ]
  },
  {
   "cell_type": "code",
   "execution_count": 22,
   "metadata": {},
   "outputs": [
    {
     "data": {
      "image/png": "[encoded data removed]",
      "text/plain": [
       "<Figure size 432x288 with 1 Axes>"
      ]
     },
     "metadata": {},
     "output_type": "display_data"
    }
   ],
   "source": [
    "nx.draw(g, with_labels=True, node_color='blue', font_color='white', node_size=1500, font_size=10, width=2)"
   ]
  },
  {
   "attachments": {},
   "cell_type": "markdown",
   "metadata": {},
   "source": [
    "## Import Data"
   ]
  },
  {
   "cell_type": "code",
   "execution_count": 23,
   "metadata": {
    "collapsed": true
   },
   "outputs": [],
   "source": [
    "demands = [15, 18, 14, 20]"
   ]
  },
  {
   "cell_type": "code",
   "execution_count": 24,
   "metadata": {
    "collapsed": true
   },
   "outputs": [],
   "source": [
    "capacities = [20, 22, 17, 19, 18]"
   ]
  },
  {
   "cell_type": "code",
   "execution_count": 25,
   "metadata": {
    "collapsed": false
   },
   "outputs": [
    {
     "name": "stdout",
     "output_type": "stream",
     "text": [
      "The number of Loads = 4\n",
      "The number of warehouses = 5\n"
     ]
    }
   ],
   "source": [
    "warehouses = range(len(capacities))\n",
    "\n",
    "print(f'The number of Loads = {len(demands)}')\n",
    "print(f'The number of warehouses = {len(capacities)}')"
   ]
  },
  {
   "cell_type": "code",
   "execution_count": 26,
   "metadata": {
    "collapsed": false
   },
   "outputs": [
    {
     "name": "stdout",
     "output_type": "stream",
     "text": [
      "[[4000 2500 1200 2200]\n",
      " [2000 2600 1800 2600]\n",
      " [3000 3400 2600 3100]\n",
      " [2500 3000 4100 3700]\n",
      " [4500 4000 3000 3200]]\n"
     ]
    }
   ],
   "source": [
    "ship_costs =  [[4000, 2500, 1200, 2200],\n",
    "               [2000, 2600, 1800, 2600],\n",
    "               [3000, 3400, 2600, 3100],\n",
    "               [2500, 3000, 4100, 3700],\n",
    "               [4500, 4000, 3000, 3200]]\n",
    "\n",
    "ship_costs = np.array(ship_costs)\n",
    "print(ship_costs)"
   ]
  },
  {
   "cell_type": "code",
   "execution_count": 27,
   "metadata": {},
   "outputs": [],
   "source": [
    "m = gp.Model()"
   ]
  },
  {
   "attachments": {},
   "cell_type": "markdown",
   "metadata": {},
   "source": [
    "## Decision Variables\n",
    "\n",
    "\n",
    "- should have to decide how many to move between the two points.</br> ----> x variable\n",
    "- nonnegativity는 addVar( )에서 'lb'로 표현됨.\n",
    "- 사실, lb=0.0이 default로 되어 있음."
   ]
  },
  {
   "cell_type": "code",
   "execution_count": 28,
   "metadata": {
    "collapsed": false
   },
   "outputs": [
    {
     "data": {
      "text/plain": [
       "{(0, 0): <gurobi.Var ship.w0.c0>,\n",
       " (0, 1): <gurobi.Var ship.w0.c1>,\n",
       " (0, 2): <gurobi.Var ship.w0.c2>,\n",
       " (0, 3): <gurobi.Var ship.w0.c3>,\n",
       " (1, 0): <gurobi.Var ship.w1.c0>,\n",
       " (1, 1): <gurobi.Var ship.w1.c1>,\n",
       " (1, 2): <gurobi.Var ship.w1.c2>,\n",
       " (1, 3): <gurobi.Var ship.w1.c3>,\n",
       " (2, 0): <gurobi.Var ship.w2.c0>,\n",
       " (2, 1): <gurobi.Var ship.w2.c1>,\n",
       " (2, 2): <gurobi.Var ship.w2.c2>,\n",
       " (2, 3): <gurobi.Var ship.w2.c3>,\n",
       " (3, 0): <gurobi.Var ship.w3.c0>,\n",
       " (3, 1): <gurobi.Var ship.w3.c1>,\n",
       " (3, 2): <gurobi.Var ship.w3.c2>,\n",
       " (3, 3): <gurobi.Var ship.w3.c3>,\n",
       " (4, 0): <gurobi.Var ship.w4.c0>,\n",
       " (4, 1): <gurobi.Var ship.w4.c1>,\n",
       " (4, 2): <gurobi.Var ship.w4.c2>,\n",
       " (4, 3): <gurobi.Var ship.w4.c3>}"
      ]
     },
     "metadata": {},
     "output_type": "display_data"
    }
   ],
   "source": [
    "x = { }\n",
    "customers = range(len(demands))\n",
    "warehouses = range(len(warehouses))\n",
    "\n",
    "for warehouse in warehouses:\n",
    "    for customer in customers:\n",
    "        \n",
    "        x[warehouse, customer] = m.addVar(lb=0.0, name='ship.w' + str(warehouse) + '.c' + str(customer))\n",
    "\n",
    "m.update() # 이걸 사용해야 *Awaiting Model Update* 라고 변수 옆에 안 뜸.\n",
    "\n",
    "display(x)"
   ]
  },
  {
   "attachments": {},
   "cell_type": "markdown",
   "metadata": {},
   "source": [
    "\\begin{equation}\n",
    "\\begin{aligned}\n",
    "\n",
    "& \\sum_{i} x_{ij} = d_{j}\\\\\n",
    "& \\textrm{The lefthand side of the equation can be obtained using the code below. }\n",
    "\n",
    "\\end{aligned}\n",
    "\\end{equation}"
   ]
  },
  {
   "cell_type": "code",
   "execution_count": 29,
   "metadata": {
    "collapsed": false
   },
   "outputs": [
    {
     "data": {
      "text/plain": [
       "<gurobi.LinExpr: ship.w0.c0 + ship.w1.c0 + ship.w2.c0 + ship.w3.c0 + ship.w4.c0>"
      ]
     },
     "execution_count": 29,
     "metadata": {},
     "output_type": "execute_result"
    }
   ],
   "source": [
    "gp.quicksum(x[warehouse, 0] for warehouse in warehouses)"
   ]
  },
  {
   "cell_type": "markdown",
   "metadata": {},
   "source": [
    "This fixes customer $c_0$, and sums over the warehouses $w_0,\\ldots,w_4$. If this works for customer $c_0$, it should work for the rest of the customers if we add an outer loop."
   ]
  },
  {
   "cell_type": "code",
   "execution_count": 30,
   "metadata": {
    "collapsed": false
   },
   "outputs": [
    {
     "name": "stdout",
     "output_type": "stream",
     "text": [
      "ship.w0.c0 + ship.w1.c0 + ship.w2.c0 + ship.w3.c0 + ship.w4.c0\n",
      "ship.w0.c1 + ship.w1.c1 + ship.w2.c1 + ship.w3.c1 + ship.w4.c1\n",
      "ship.w0.c2 + ship.w1.c2 + ship.w2.c2 + ship.w3.c2 + ship.w4.c2\n",
      "ship.w0.c3 + ship.w1.c3 + ship.w2.c3 + ship.w3.c3 + ship.w4.c3\n"
     ]
    }
   ],
   "source": [
    "# customer는 4명이니까 이런 식이 4개가 존재.\n",
    "\n",
    "for customer in customers:\n",
    "    print(gp.quicksum(x[warehouse, customer] for warehouse in warehouses) )"
   ]
  },
  {
   "cell_type": "code",
   "execution_count": 31,
   "metadata": {
    "collapsed": false
   },
   "outputs": [
    {
     "name": "stdout",
     "output_type": "stream",
     "text": [
      "ship.w0.c0 + ship.w0.c1 + ship.w0.c2 + ship.w0.c3\n",
      "ship.w1.c0 + ship.w1.c1 + ship.w1.c2 + ship.w1.c3\n",
      "ship.w2.c0 + ship.w2.c1 + ship.w2.c2 + ship.w2.c3\n",
      "ship.w3.c0 + ship.w3.c1 + ship.w3.c2 + ship.w3.c3\n",
      "ship.w4.c0 + ship.w4.c1 + ship.w4.c2 + ship.w4.c3\n"
     ]
    }
   ],
   "source": [
    "# warehouse는 5명이니까 아래 같은 식이 가능.\n",
    "\n",
    "for warehouse in warehouses:\n",
    "    print(gp.quicksum(x[warehouse, customer] for customer in customers) )"
   ]
  },
  {
   "attachments": {},
   "cell_type": "markdown",
   "metadata": {},
   "source": [
    "## Add Constraints\n",
    "Generating the correct LinExpr objects for each demand and supply is most of the challenge. We can turn each LinExpr into a constraint by using the overloaded $<=$, $>=$, and $==$ operators.\n",
    "\n",
    "For the demand constraints, we'll loop over the customers and sum over the warehouses.\n",
    "\n",
    "Note: We are using Python's list comprehension syntax here, which puts the outer for loop inside the []. It is still the case that the outer loop iterates over the customer, and the inner loop sums over the warehouses.\n",
    "- nonnegativity는 addVar( )에서 설정해줬음."
   ]
  },
  {
   "cell_type": "code",
   "execution_count": 32,
   "metadata": {
    "collapsed": true
   },
   "outputs": [],
   "source": [
    "# The Demand Constraints\n",
    "\n",
    "for customer, demand in enumerate(demands): # 여기가 for all j에 해당하는 부분.\n",
    "    # 아래는 등호 부분.\n",
    "    m.addConstr(gp.quicksum(x[warehouse, customer] for warehouse in warehouses)  ==  demand, name='demand.' + str(customer) )"
   ]
  },
  {
   "attachments": {},
   "cell_type": "markdown",
   "metadata": {},
   "source": [
    "We can write a similar method to generate the capacity constraints.\n",
    "- 부등호가 있어서 objective function처럼 작성할 수는 없음."
   ]
  },
  {
   "cell_type": "code",
   "execution_count": 33,
   "metadata": {
    "collapsed": true
   },
   "outputs": [],
   "source": [
    "# The Capacity Constraints\n",
    "\n",
    "for warehouse, capacity in enumerate(capacities): # 여기가 for all i에 해당하는 부분.\n",
    "    # 아래는 부등호 부분.\n",
    "    m.addConstr(gp.quicksum(x[warehouse, customer] for customer in customers)  <=  capacity, name='capacity.' + str(warehouse))"
   ]
  },
  {
   "attachments": {},
   "cell_type": "markdown",
   "metadata": {},
   "source": [
    "## Set the objective function\n",
    "- 한 줄 for loop을 아래처럼 써주면 sigma 표현과 유사해 보여서 보기 편함."
   ]
  },
  {
   "cell_type": "code",
   "execution_count": 34,
   "metadata": {},
   "outputs": [],
   "source": [
    "m.setObjective(gp.quicksum(ship_costs[warehouse, customer]*x[warehouse, customer]\\\n",
    "                            for warehouse in warehouses\\\n",
    "                                for customer in customers ))"
   ]
  },
  {
   "cell_type": "markdown",
   "metadata": {},
   "source": [
    "<H3>Solving the Model</H3>\n",
    "\n",
    "Now we have the building blocks needed to build and solve a transportation model. Let's put it all together."
   ]
  },
  {
   "cell_type": "code",
   "execution_count": 35,
   "metadata": {},
   "outputs": [
    {
     "name": "stdout",
     "output_type": "stream",
     "text": [
      "Gurobi Optimizer version 10.0.0 build v10.0.0rc2 (win64)\n",
      "\n",
      "CPU model: Intel(R) Core(TM) i5-10400F CPU @ 2.90GHz, instruction set [SSE2|AVX|AVX2]\n",
      "Thread count: 6 physical cores, 12 logical processors, using up to 12 threads\n",
      "\n",
      "Optimize a model with 9 rows, 20 columns and 40 nonzeros\n",
      "Model fingerprint: 0x929325df\n",
      "Coefficient statistics:\n",
      "  Matrix range     [1e+00, 1e+00]\n",
      "  Objective range  [1e+03, 5e+03]\n",
      "  Bounds range     [0e+00, 0e+00]\n",
      "  RHS range        [1e+01, 2e+01]\n",
      "Presolve time: 0.00s\n",
      "Presolved: 9 rows, 20 columns, 40 nonzeros\n",
      "\n",
      "Iteration    Objective       Primal Inf.    Dual Inf.      Time\n",
      "       0    1.3580000e+05   3.200000e+01   0.000000e+00      0s\n",
      "       4    1.5390000e+05   0.000000e+00   0.000000e+00      0s\n",
      "\n",
      "Solved in 4 iterations and 0.01 seconds (0.00 work units)\n",
      "Optimal objective  1.539000000e+05\n"
     ]
    }
   ],
   "source": [
    "m.optimize()"
   ]
  },
  {
   "cell_type": "code",
   "execution_count": 36,
   "metadata": {},
   "outputs": [
    {
     "name": "stdout",
     "output_type": "stream",
     "text": [
      "Obj Function:  153900.0\n",
      "\n",
      "ship.w0.c2 14.0\n",
      "ship.w0.c3 6.0\n",
      "ship.w1.c0 15.0\n",
      "ship.w1.c3 7.0\n",
      "ship.w2.c3 7.0\n",
      "ship.w3.c1 18.0\n"
     ]
    }
   ],
   "source": [
    "if m.status == GRB.Status.OPTIMAL:\n",
    "    print('Obj Function: ', m.objVal)\n",
    "    print()\n",
    "    for v in m.getVars():\n",
    "        if v.X == 0.0:  # 0이라 필요없는 것들은 출력 안 함.\n",
    "            continue\n",
    "        else:\n",
    "            print(v.varName, np.round(v.X))\n",
    "\n",
    "else:\n",
    "    print(m.status)"
   ]
  },
  {
   "attachments": {},
   "cell_type": "markdown",
   "metadata": {},
   "source": [
    "## --The End--"
   ]
  }
 ],
 "metadata": {
  "kernelspec": {
   "display_name": "base",
   "language": "python",
   "name": "python3"
  },
  "language_info": {
   "codemirror_mode": {
    "name": "ipython",
    "version": 3
   },
   "file_extension": ".py",
   "mimetype": "text/x-python",
   "name": "python",
   "nbconvert_exporter": "python",
   "pygments_lexer": "ipython3",
   "version": "3.9.7 (default, Sep 16 2021, 16:59:28) [MSC v.1916 64 bit (AMD64)]"
  },
  "vscode": {
   "interpreter": {
    "hash": "e4cce46d6be9934fbd27f9ca0432556941ea5bdf741d4f4d64c6cd7f8dfa8fba"
   }
  }
 },
 "nbformat": 4,
 "nbformat_minor": 0
}
