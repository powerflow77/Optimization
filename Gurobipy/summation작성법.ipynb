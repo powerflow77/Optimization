{
 "cells": [
  {
   "cell_type": "code",
   "execution_count": 289,
   "metadata": {},
   "outputs": [],
   "source": [
    "import numpy as np\n",
    "import pandas as pd\n",
    "import gurobipy as gp\n",
    "from gurobipy import GRB\n",
    "import matplotlib.pyplot as plt\n",
    "plt.style.use('seaborn-whitegrid')"
   ]
  },
  {
   "cell_type": "code",
   "execution_count": 290,
   "metadata": {},
   "outputs": [],
   "source": [
    "N = 4\n",
    "m = gp.Model()\n",
    "\n",
    "cap = 6.4\n",
    "max_charge = cap/3\n",
    "max_soe = cap*1.0\n",
    "min_soe = cap*0.1\n",
    "eta = [0.95]*N\n",
    "\n",
    "action = 3.5\n",
    "mu = [0.15, 0.75, 0.09, 0.01]\n",
    "init_soe = [cap*0.2, cap*0.8, cap*0.3, cap*0.5] # np.array 사용하면 indexing할 때 조금 더러워짐.\n",
    "\n",
    "#====================================================================================\n",
    "\n",
    "charge = m.addVars(N, lb=0, vtype=GRB.CONTINUOUS, ub=max_charge, name='charge')\n",
    "discharge = m.addVars(N, lb=0, vtype=GRB.CONTINUOUS, ub=max_charge, name='discharge')\n",
    "self_ch = m.addVars(N, lb=0, vtype=GRB.CONTINUOUS, name='self_ch')\n",
    "self_dis = m.addVars(N, lb=0, vtype=GRB.CONTINUOUS, name='self_dis')\n",
    "ext_ch = m.addVars(N, lb=0, vtype=GRB.CONTINUOUS, name='ext_ch')\n",
    "ext_dis = m.addVars(N, lb=0, vtype=GRB.CONTINUOUS, name='ext_dis')\n",
    "soe = m.addVars(N, lb=min_soe, ub=max_soe, vtype=GRB.CONTINUOUS, name='soe')\n",
    "\n",
    "diag = np.eye(N,N)"
   ]
  },
  {
   "cell_type": "code",
   "execution_count": 291,
   "metadata": {},
   "outputs": [],
   "source": [
    "load = [2.4, 3.2, 4.2, 3.3]\n",
    "pv = [4.8, 5.5, 5.3, 5.6]"
   ]
  },
  {
   "cell_type": "code",
   "execution_count": 292,
   "metadata": {},
   "outputs": [
    {
     "name": "stdout",
     "output_type": "stream",
     "text": [
      "Gurobi Optimizer version 10.0.0 build v10.0.0rc2 (win64)\n",
      "\n",
      "CPU model: Intel(R) Core(TM) i5-10400F CPU @ 2.90GHz, instruction set [SSE2|AVX|AVX2]\n",
      "Thread count: 6 physical cores, 12 logical processors, using up to 12 threads\n",
      "\n",
      "Optimize a model with 13 rows, 28 columns and 60 nonzeros\n",
      "Model fingerprint: 0x48dd2921\n",
      "Coefficient statistics:\n",
      "  Matrix range     [9e-01, 1e+00]\n",
      "  Objective range  [1e+01, 2e+01]\n",
      "  Bounds range     [6e-01, 6e+00]\n",
      "  RHS range        [1e+00, 5e+00]\n",
      "Presolve removed 11 rows and 24 columns\n",
      "Presolve time: 0.00s\n",
      "Presolved: 2 rows, 4 columns, 4 nonzeros\n",
      "\n",
      "Iteration    Objective       Primal Inf.    Dual Inf.      Time\n",
      "       0   -2.1285391e+02   0.000000e+00   0.000000e+00      0s\n",
      "       0   -2.1285391e+02   0.000000e+00   0.000000e+00      0s\n",
      "\n",
      "Solved in 0 iterations and 0.01 seconds (0.00 work units)\n",
      "Optimal objective -2.128539093e+02\n"
     ]
    }
   ],
   "source": [
    "for i in range(N):\n",
    "    m.addConstr(  charge[i] == self_ch[i] + gp.quicksum(ext_ch[j] for j in range(N) if j != i)  ) # Net_Charge 구하기.\n",
    "    m.addConstr(  discharge[i] == self_dis[i] + gp.quicksum(ext_dis[j] for j in range(N) if j != i)  ) # Net_Discharge 구하기.    \n",
    "    m.addConstr(  soe[i] == init_soe[i] + eta[i]*charge[i] - (1/eta[i])*discharge[i]  ) # 에너지 충방전 과정.\n",
    "\n",
    "m.addConstr( gp.quicksum(charge[i] - discharge[i] for i in range(N)) <= action ) # Action 값보다는 작아야.\n",
    "\n",
    "'''\n",
    "m.setObjective(gp.quicksum(mu[i]*(charge[i]-discharge[i]) for i in range(N)) \n",
    "                + 0.001*gp.quicksum(charge[i] + discharge[i] for i in range(N))\n",
    "                , GRB.MAXIMIZE)\n",
    "'''\n",
    "\n",
    "m.setObjective( 15*gp.quicksum(load[i] - pv[i] + charge[i]-discharge[i] for i in range(N))\n",
    "               + 0.001*gp.quicksum(charge[i] + discharge[i] for i in range(N))\n",
    "               , GRB.MINIMIZE  )\n",
    "\n",
    "\n",
    "m.optimize()"
   ]
  },
  {
   "cell_type": "code",
   "execution_count": 293,
   "metadata": {},
   "outputs": [
    {
     "name": "stdout",
     "output_type": "stream",
     "text": [
      "charge[0] 0.0\n",
      "charge[1] 0.0\n",
      "charge[2] 0.0\n",
      "charge[3] 0.0\n",
      "discharge[0] 1.0\n",
      "discharge[1] 2.0\n",
      "discharge[2] 1.0\n",
      "discharge[3] 2.0\n",
      "self_ch[0] 0.0\n",
      "self_ch[1] 0.0\n",
      "self_ch[2] 0.0\n",
      "self_ch[3] 0.0\n",
      "self_dis[0] 1.0\n",
      "self_dis[1] 2.0\n",
      "self_dis[2] 1.0\n",
      "self_dis[3] 2.0\n",
      "ext_ch[0] 0.0\n",
      "ext_ch[1] 0.0\n",
      "ext_ch[2] 0.0\n",
      "ext_ch[3] 0.0\n",
      "ext_dis[0] 0.0\n",
      "ext_dis[1] 0.0\n",
      "ext_dis[2] 0.0\n",
      "ext_dis[3] 0.0\n",
      "soe[0] 1.0\n",
      "soe[1] 3.0\n",
      "soe[2] 1.0\n",
      "soe[3] 1.0\n"
     ]
    }
   ],
   "source": [
    "for v in m.getVars():\n",
    "    print(v.varName, np.round(v.x))"
   ]
  },
  {
   "cell_type": "code",
   "execution_count": null,
   "metadata": {},
   "outputs": [],
   "source": []
  }
 ],
 "metadata": {
  "kernelspec": {
   "display_name": "base",
   "language": "python",
   "name": "python3"
  },
  "language_info": {
   "codemirror_mode": {
    "name": "ipython",
    "version": 3
   },
   "file_extension": ".py",
   "mimetype": "text/x-python",
   "name": "python",
   "nbconvert_exporter": "python",
   "pygments_lexer": "ipython3",
   "version": "3.9.7"
  }
 },
 "nbformat": 4,
 "nbformat_minor": 2
}
