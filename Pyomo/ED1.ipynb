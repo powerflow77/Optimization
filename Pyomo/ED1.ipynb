{
 "cells": [
  {
   "attachments": {},
   "cell_type": "markdown",
   "metadata": {},
   "source": [
    "# --The Start--"
   ]
  },
  {
   "cell_type": "code",
   "execution_count": 37,
   "metadata": {},
   "outputs": [],
   "source": [
    "import numpy as np\n",
    "import pandas as pd\n",
    "import matplotlib.pyplot as plt\n",
    "\n",
    "from pyomo.environ import *"
   ]
  },
  {
   "attachments": {},
   "cell_type": "markdown",
   "metadata": {},
   "source": [
    "## Data"
   ]
  },
  {
   "cell_type": "code",
   "execution_count": 38,
   "metadata": {},
   "outputs": [
    {
     "data": {
      "text/html": [
       "<div>\n",
       "<style scoped>\n",
       "    .dataframe tbody tr th:only-of-type {\n",
       "        vertical-align: middle;\n",
       "    }\n",
       "\n",
       "    .dataframe tbody tr th {\n",
       "        vertical-align: top;\n",
       "    }\n",
       "\n",
       "    .dataframe thead th {\n",
       "        text-align: right;\n",
       "    }\n",
       "</style>\n",
       "<table border=\"1\" class=\"dataframe\">\n",
       "  <thead>\n",
       "    <tr style=\"text-align: right;\">\n",
       "      <th></th>\n",
       "      <th>Unnamed: 0</th>\n",
       "      <th>a</th>\n",
       "      <th>b</th>\n",
       "      <th>c</th>\n",
       "      <th>Pmin</th>\n",
       "      <th>Pmax</th>\n",
       "    </tr>\n",
       "  </thead>\n",
       "  <tbody>\n",
       "    <tr>\n",
       "      <th>0</th>\n",
       "      <td>G1</td>\n",
       "      <td>3.00</td>\n",
       "      <td>20.00</td>\n",
       "      <td>100.00</td>\n",
       "      <td>28</td>\n",
       "      <td>206</td>\n",
       "    </tr>\n",
       "    <tr>\n",
       "      <th>1</th>\n",
       "      <td>G2</td>\n",
       "      <td>4.05</td>\n",
       "      <td>18.07</td>\n",
       "      <td>98.87</td>\n",
       "      <td>90</td>\n",
       "      <td>284</td>\n",
       "    </tr>\n",
       "    <tr>\n",
       "      <th>2</th>\n",
       "      <td>G3</td>\n",
       "      <td>4.05</td>\n",
       "      <td>15.55</td>\n",
       "      <td>104.26</td>\n",
       "      <td>68</td>\n",
       "      <td>189</td>\n",
       "    </tr>\n",
       "    <tr>\n",
       "      <th>3</th>\n",
       "      <td>G4</td>\n",
       "      <td>3.99</td>\n",
       "      <td>19.21</td>\n",
       "      <td>107.21</td>\n",
       "      <td>76</td>\n",
       "      <td>266</td>\n",
       "    </tr>\n",
       "    <tr>\n",
       "      <th>4</th>\n",
       "      <td>G5</td>\n",
       "      <td>3.88</td>\n",
       "      <td>26.18</td>\n",
       "      <td>95.31</td>\n",
       "      <td>19</td>\n",
       "      <td>53</td>\n",
       "    </tr>\n",
       "  </tbody>\n",
       "</table>\n",
       "</div>"
      ],
      "text/plain": [
       "  Unnamed: 0     a      b       c  Pmin  Pmax\n",
       "0         G1  3.00  20.00  100.00    28   206\n",
       "1         G2  4.05  18.07   98.87    90   284\n",
       "2         G3  4.05  15.55  104.26    68   189\n",
       "3         G4  3.99  19.21  107.21    76   266\n",
       "4         G5  3.88  26.18   95.31    19    53"
      ]
     },
     "execution_count": 38,
     "metadata": {},
     "output_type": "execute_result"
    }
   ],
   "source": [
    "df=pd.read_csv('ED1 data.csv', sep=',')\n",
    "df"
   ]
  },
  {
   "attachments": {},
   "cell_type": "markdown",
   "metadata": {},
   "source": [
    "\\begin{align}\n",
    "    \\min_{g} && \\sum_g a_gP_g^2 +b_gP_g +c_g\\\\\n",
    "    \\text{s.t.} && \\sum_{g} P_g \\geq Load\\\\\n",
    "    && P^{min}_g \\leq P_g \\leq P^{max}_g\n",
    "\n",
    "\\end{align}"
   ]
  },
  {
   "cell_type": "code",
   "execution_count": 39,
   "metadata": {},
   "outputs": [
    {
     "name": "stdout",
     "output_type": "stream",
     "text": [
      "The number of the Generators: 5\n"
     ]
    }
   ],
   "source": [
    "print(f'The number of the Generators: {len(df)}')"
   ]
  },
  {
   "attachments": {},
   "cell_type": "markdown",
   "metadata": {},
   "source": [
    "## Formulation"
   ]
  },
  {
   "cell_type": "code",
   "execution_count": 40,
   "metadata": {},
   "outputs": [],
   "source": [
    "model = AbstractModel()\n",
    "\n",
    "model.g = RangeSet(len(df))\n",
    "\n",
    "\n",
    "# P는 g로 인덱싱 중\n",
    "# P를 찾는 중이니까 Var.\n",
    "# bound에 대한 constraint는 여기서 바로 넣어줌.\n",
    "def bound_P(model, g):\n",
    "    return (df.loc[g-1, 'Pmin'], df.loc[g-1, 'Pmax'])\n",
    "model.P = Var(model.g, bounds=bound_P, initialize=0, within=Reals)\n",
    "\n",
    "\n",
    "# Load는 주어지니까 Param.\n",
    "model.Load = Param(initialize=300, within=Reals)\n",
    "\n",
    "\n",
    "# Objective Function\n",
    "def rule_of(model):\n",
    "    # pandas는 0부터 세니까 (g-1)으로 쓴 거임\n",
    "    return sum(df.loc[g-1, 'a']*model.P[g] + df.loc[g-1, 'b']*model.P[g] + df.loc[g-1, 'c']  for g in model.g)\n",
    "model.objective = Objective(rule=rule_of, sense=minimize)\n",
    "\n",
    "\n",
    "# Constraints\n",
    "def rule_c1(model):\n",
    "    return sum(model.P[g] for g in model.g) >= model.Load\n",
    "model.c1 = Constraint(rule=rule_c1)"
   ]
  },
  {
   "attachments": {},
   "cell_type": "markdown",
   "metadata": {},
   "source": [
    "## 최적화 수행"
   ]
  },
  {
   "cell_type": "code",
   "execution_count": 41,
   "metadata": {},
   "outputs": [
    {
     "name": "stdout",
     "output_type": "stream",
     "text": [
      "WARNING (W1002): Setting Var 'P[1]' to a numeric value `0` outside the bounds\n",
      "    (28, 206).\n",
      "    See also https://pyomo.readthedocs.io/en/stable/errors.html#w1002\n",
      "WARNING (W1002): Setting Var 'P[1]' to a numeric value `0` outside the bounds\n",
      "    (28, 206).\n",
      "    See also https://pyomo.readthedocs.io/en/stable/errors.html#w1002\n",
      "WARNING (W1002): Setting Var 'P[2]' to a numeric value `0` outside the bounds\n",
      "    (90, 284).\n",
      "    See also https://pyomo.readthedocs.io/en/stable/errors.html#w1002\n",
      "WARNING (W1002): Setting Var 'P[3]' to a numeric value `0` outside the bounds\n",
      "    (68, 189).\n",
      "    See also https://pyomo.readthedocs.io/en/stable/errors.html#w1002\n",
      "WARNING (W1002): Setting Var 'P[4]' to a numeric value `0` outside the bounds\n",
      "    (76, 266).\n",
      "    See also https://pyomo.readthedocs.io/en/stable/errors.html#w1002\n",
      "WARNING (W1002): Setting Var 'P[5]' to a numeric value `0` outside the bounds\n",
      "    (19, 53).\n",
      "    See also https://pyomo.readthedocs.io/en/stable/errors.html#w1002\n"
     ]
    }
   ],
   "source": [
    "opt = SolverFactory('ipopt')\n",
    "instance = model.create_instance()\n",
    "results = opt.solve(instance) # solves and updates instance"
   ]
  },
  {
   "cell_type": "code",
   "execution_count": 42,
   "metadata": {},
   "outputs": [
    {
     "name": "stdout",
     "output_type": "stream",
     "text": [
      "# ==========================================================\n",
      "# = Solver Results                                         =\n",
      "# ==========================================================\n",
      "# ----------------------------------------------------------\n",
      "#   Problem Information\n",
      "# ----------------------------------------------------------\n",
      "Problem: \n",
      "- Lower bound: -inf\n",
      "  Upper bound: inf\n",
      "  Number of objectives: 1\n",
      "  Number of constraints: 1\n",
      "  Number of variables: 5\n",
      "  Sense: unknown\n",
      "# ----------------------------------------------------------\n",
      "#   Solver Information\n",
      "# ----------------------------------------------------------\n",
      "Solver: \n",
      "- Status: ok\n",
      "  Message: Ipopt 3.9.1\\x3a Optimal Solution Found\n",
      "  Termination condition: optimal\n",
      "  Id: 0\n",
      "  Error rc: 0\n",
      "  Time: 0.03999829292297363\n",
      "# ----------------------------------------------------------\n",
      "#   Solution Information\n",
      "# ----------------------------------------------------------\n",
      "Solution: \n",
      "- number of solutions: 0\n",
      "  number of solutions displayed: 0\n"
     ]
    }
   ],
   "source": [
    "results.write()"
   ]
  },
  {
   "cell_type": "code",
   "execution_count": 43,
   "metadata": {},
   "outputs": [
    {
     "name": "stdout",
     "output_type": "stream",
     "text": [
      "Constraint 1 is active at the optimal solution: True\n"
     ]
    }
   ],
   "source": [
    "print(\"Constraint 1 is active at the optimal solution:\", model.c1.active)"
   ]
  },
  {
   "cell_type": "code",
   "execution_count": 44,
   "metadata": {},
   "outputs": [
    {
     "name": "stdout",
     "output_type": "stream",
     "text": [
      "1 28.0\n",
      "2 90.0\n",
      "3 86.99999912746073\n",
      "4 76.0\n",
      "5 19.0\n",
      "299.99999912746074\n"
     ]
    }
   ],
   "source": [
    "for g in instance.g:\n",
    "    print(g , value(instance.P[g]))\n",
    "    \n",
    "Total= sum(value(instance.P[g]) for g in instance.g )\n",
    "print(Total)"
   ]
  },
  {
   "cell_type": "code",
   "execution_count": 45,
   "metadata": {},
   "outputs": [
    {
     "data": {
      "image/png": "[encoded data removed]",
      "text/plain": [
       "<Figure size 576x576 with 1 Axes>"
      ]
     },
     "metadata": {
      "needs_background": "light"
     },
     "output_type": "display_data"
    }
   ],
   "source": [
    "plt.figure(figsize=(8,8))\n",
    "Y=[value(instance.P[g]) for g in instance.g]\n",
    "X=[g for g in instance.g]\n",
    "plt.scatter(X,Y,s=40, c='r')\n",
    "plt.xlabel('Generator Number ')\n",
    "plt.ylabel('Power Output (MW)')\n",
    "plt.grid()\n",
    "plt.show()"
   ]
  },
  {
   "attachments": {},
   "cell_type": "markdown",
   "metadata": {},
   "source": [
    "## --The end--"
   ]
  }
 ],
 "metadata": {
  "kernelspec": {
   "display_name": "base",
   "language": "python",
   "name": "python3"
  },
  "language_info": {
   "codemirror_mode": {
    "name": "ipython",
    "version": 3
   },
   "file_extension": ".py",
   "mimetype": "text/x-python",
   "name": "python",
   "nbconvert_exporter": "python",
   "pygments_lexer": "ipython3",
   "version": "3.9.7"
  },
  "vscode": {
   "interpreter": {
    "hash": "e4cce46d6be9934fbd27f9ca0432556941ea5bdf741d4f4d64c6cd7f8dfa8fba"
   }
  }
 },
 "nbformat": 4,
 "nbformat_minor": 4
}
