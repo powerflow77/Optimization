{
 "cells": [
  {
   "attachments": {},
   "cell_type": "markdown",
   "metadata": {},
   "source": [
    "## --The Start--"
   ]
  },
  {
   "attachments": {},
   "cell_type": "markdown",
   "metadata": {},
   "source": [
    "###### Anaconda3/.../bin에 ipopt.exe 파일 있어야 계산됨."
   ]
  },
  {
   "attachments": {},
   "cell_type": "markdown",
   "metadata": {},
   "source": [
    "## Unit Commitment"
   ]
  },
  {
   "cell_type": "code",
   "execution_count": 26,
   "metadata": {},
   "outputs": [],
   "source": [
    "import matplotlib.pyplot as plt\n",
    "import numpy as np\n",
    "import pandas as pd\n",
    "from IPython.display import display, HTML, Image\n",
    "\n",
    "import shutil\n",
    "import sys\n",
    "import os.path\n",
    "\n",
    "import pyomo.gdp as gdp\n",
    "import pyomo.environ as pyo\n",
    "from pyomo.opt.base.solvers import *"
   ]
  },
  {
   "cell_type": "code",
   "execution_count": 27,
   "metadata": {},
   "outputs": [
    {
     "data": {
      "image/png": "[encoded data removed]",
      "text/plain": [
       "<Figure size 432x288 with 1 Axes>"
      ]
     },
     "metadata": {
      "needs_background": "light"
     },
     "output_type": "display_data"
    }
   ],
   "source": [
    "# demand\n",
    "T = 20\n",
    "T = np.array([t for t in range(0, T)])\n",
    "d = np.array([100 + 100*np.random.uniform() for t in T])\n",
    "\n",
    "fig, ax = plt.subplots(1,1)\n",
    "ax.bar(T+1, d)\n",
    "ax.set_xlabel('Time Period')\n",
    "ax.set_title('Demand')\n",
    "plt.show()"
   ]
  },
  {
   "cell_type": "code",
   "execution_count": 28,
   "metadata": {},
   "outputs": [
    {
     "name": "stdout",
     "output_type": "stream",
     "text": [
      "(20,)\n",
      "[162.41799634 121.60185735 193.22383731 155.88518424 163.85309235\n",
      " 156.28801792 103.30658213 182.38896287 144.4015293  127.8872193\n",
      " 177.63956494 121.6579089  179.65875091 112.34695664 187.20160419\n",
      " 109.95116896 178.34082959 112.2167236  157.02952977 187.22028289]\n"
     ]
    }
   ],
   "source": [
    "print(d.shape)\n",
    "print(d)"
   ]
  },
  {
   "cell_type": "code",
   "execution_count": 29,
   "metadata": {},
   "outputs": [
    {
     "data": {
      "image/png": "[encoded data removed]",
      "text/plain": [
       "<Figure size 432x288 with 1 Axes>"
      ]
     },
     "metadata": {
      "needs_background": "light"
     },
     "output_type": "display_data"
    }
   ],
   "source": [
    "# generating units\n",
    "N = 5\n",
    "pmax = 2*max(d)/N\n",
    "pmin = 0.6*pmax\n",
    "\n",
    "N = np.array([n for n in range(0, N)])\n",
    "a = np.array([0.5 + 0.2*np.random.randn() for n in N])\n",
    "b = np.array([10*np.random.uniform() for n in N])\n",
    "\n",
    "p = np.linspace(pmin, pmax)\n",
    "\n",
    "fig, ax = plt.subplots(1,1)\n",
    "for n in N:\n",
    "    ax.plot(p, a[n]*p + b[n])\n",
    "ax.set_xlim(0, pmax)\n",
    "ax.set_ylim(0, max(a*pmax + b))\n",
    "ax.set_xlabel('Unit Production')\n",
    "ax.set_ylabel('Unit Operating Cost')\n",
    "ax.grid()"
   ]
  },
  {
   "attachments": {},
   "cell_type": "markdown",
   "metadata": {},
   "source": [
    "#### $$min\\sum_{n=N} \\sum_{t \\in T} (a_n x_{n,t} + b_n u_{n,t})$$\n",
    "#### $$s.t.\\sum_{n \\in N} x_{n,t} = d_t$$\n",
    "#### $$p^{min}_n u_{n,t} \\le  x_{n,t}$$\n",
    "#### $$p^{max}_n u_{n,t} \\ge  x_{n,t}$$"
   ]
  },
  {
   "cell_type": "code",
   "execution_count": 30,
   "metadata": {},
   "outputs": [],
   "source": [
    "def unit_commitment():\n",
    "    m = pyo.ConcreteModel() # m은 model을 말함\n",
    "\n",
    "    m.N = pyo.Set(initialize=N)\n",
    "    m.T = pyo.Set(initialize=T)\n",
    "\n",
    "    # m.N과 m.T로 인덱싱 되고 있음.\n",
    "    m.x = pyo.Var(m.N, m.T, bounds=(0, pmax)) # 발전량에 대한 제약조건 포함. -----> 발전량\n",
    "    m.u = pyo.Var(m.N, m.T, domain=pyo.Binary) # 이 변수는 {0, 1}에 속함. ----> on/off\n",
    "\n",
    "    # Objective Function\n",
    "    # 두 개의 summation이 이중 for loop으로 표현됨.\n",
    "    m.cost = pyo.Objective(expr=sum(m.x[n,t]*a[n] + m.u[n,t]*b[n] for t in m.T for n in m.N))\n",
    "\n",
    "    # demand\n",
    "    # demand는 우리가 데이터를 가지고 있음.\n",
    "    # for all T가 수식에 써있음.\n",
    "    # 이게 argument m.T로 들어감.\n",
    "    m.demand = pyo.Constraint(m.T, rule=lambda m, t: sum(m.x[n,t] for n in N) == d[t])\n",
    "\n",
    "    m.lb = pyo.Constraint(m.N, m.T, rule=lambda m, n, t: pmin*m.u[n,t] <= m.x[n,t])\n",
    "    m.ub = pyo.Constraint(m.N, m.T, rule=lambda m, n, t: pmax*m.u[n,t] >= m.x[n,t])\n",
    "\n",
    "    return m"
   ]
  },
  {
   "cell_type": "code",
   "execution_count": 31,
   "metadata": {},
   "outputs": [
    {
     "name": "stdout",
     "output_type": "stream",
     "text": [
      "# ==========================================================\n",
      "# = Solver Results                                         =\n",
      "# ==========================================================\n",
      "# ----------------------------------------------------------\n",
      "#   Problem Information\n",
      "# ----------------------------------------------------------\n",
      "Problem: \n",
      "- Lower bound: -inf\n",
      "  Upper bound: inf\n",
      "  Number of objectives: 1\n",
      "  Number of constraints: 220\n",
      "  Number of variables: 200\n",
      "  Sense: unknown\n",
      "# ----------------------------------------------------------\n",
      "#   Solver Information\n",
      "# ----------------------------------------------------------\n",
      "Solver: \n",
      "- Status: ok\n",
      "  Message: Ipopt 3.9.1\\x3a Optimal Solution Found\n",
      "  Termination condition: optimal\n",
      "  Id: 0\n",
      "  Error rc: 0\n",
      "  Time: 0.0967400074005127\n",
      "# ----------------------------------------------------------\n",
      "#   Solution Information\n",
      "# ----------------------------------------------------------\n",
      "Solution: \n",
      "- number of solutions: 0\n",
      "  number of solutions displayed: 0\n"
     ]
    }
   ],
   "source": [
    "model = unit_commitment()\n",
    "pyo.SolverFactory('ipopt').solve(model).write()"
   ]
  },
  {
   "cell_type": "code",
   "execution_count": 34,
   "metadata": {},
   "outputs": [
    {
     "data": {
      "image/png": "[encoded data removed]",
      "text/plain": [
       "<Figure size 576x504 with 5 Axes>"
      ]
     },
     "metadata": {
      "needs_background": "light"
     },
     "output_type": "display_data"
    }
   ],
   "source": [
    "fig, ax = plt.subplots(max(N)+1, 1, figsize=(8, 1.5*max(N)+1))\n",
    "for n in N:\n",
    "    ax[n].bar(T+1, [model.x[n,t]() for t in T])\n",
    "    ax[n].set_xlim(0, max(T)+2)\n",
    "    ax[n].set_ylim(0, 1.1*pmax)\n",
    "    ax[n].plot(ax[n].get_xlim(), np.array([pmax, pmax]), 'r--') # 발전 최댓값\n",
    "    ax[n].plot(ax[n].get_xlim(), np.array([pmin, pmin]), 'r--') # 발전 최솟값\n",
    "    ax[n].set_title('Unit ' + str(n+1))\n",
    "fig.tight_layout()\n",
    "\n",
    "plt.show()"
   ]
  },
  {
   "cell_type": "code",
   "execution_count": null,
   "metadata": {},
   "outputs": [],
   "source": []
  },
  {
   "attachments": {},
   "cell_type": "markdown",
   "metadata": {},
   "source": [
    "## --The End--"
   ]
  }
 ],
 "metadata": {
  "kernelspec": {
   "display_name": "base",
   "language": "python",
   "name": "python3"
  },
  "language_info": {
   "codemirror_mode": {
    "name": "ipython",
    "version": 3
   },
   "file_extension": ".py",
   "mimetype": "text/x-python",
   "name": "python",
   "nbconvert_exporter": "python",
   "pygments_lexer": "ipython3",
   "version": "3.9.7"
  },
  "orig_nbformat": 4,
  "vscode": {
   "interpreter": {
    "hash": "e4cce46d6be9934fbd27f9ca0432556941ea5bdf741d4f4d64c6cd7f8dfa8fba"
   }
  }
 },
 "nbformat": 4,
 "nbformat_minor": 2
}
